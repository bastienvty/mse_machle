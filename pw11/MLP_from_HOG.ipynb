{
 "cells": [
  {
   "cell_type": "markdown",
   "metadata": {
    "id": "X_wPegydbafH"
   },
   "source": [
    "# Computing features to train a MLP\n",
    "This notebook will guide you through the use of the `keras` package to train a multilayer perceptron for handwritten digits classification. You are going to computing the histogram of gradients from the images in the `mnist` dataset (LeCun et al. 1998)"
   ]
  },
  {
   "cell_type": "markdown",
   "metadata": {
    "id": "61oGWRyMbafJ"
   },
   "source": [
    "## Loading the packages"
   ]
  },
  {
   "cell_type": "code",
   "execution_count": 1,
   "metadata": {
    "id": "duI9Ar-8bafS"
   },
   "outputs": [],
   "source": [
    "import numpy as np\n",
    "from matplotlib import pyplot as pl\n",
    "\n",
    "import tensorflow as tf\n",
    "from skimage.feature import hog\n",
    "from skimage import data, color, exposure\n",
    "\n",
    "from tensorflow.keras.datasets import mnist\n",
    "from tensorflow.keras.models import Sequential\n",
    "from tensorflow.keras.layers import Dense, Dropout\n",
    "from tensorflow.keras.optimizers import RMSprop, SGD, Adam\n",
    "from sklearn import metrics as me\n",
    "\n",
    "%matplotlib inline"
   ]
  },
  {
   "cell_type": "markdown",
   "metadata": {
    "id": "KpPmUqiRbafz"
   },
   "source": [
    "Load the `mnist` dataset and normalize in the range [0, 1]"
   ]
  },
  {
   "cell_type": "code",
   "execution_count": 2,
   "metadata": {
    "id": "verKKFaFbaf6"
   },
   "outputs": [
    {
     "name": "stdout",
     "output_type": "stream",
     "text": [
      "50000 train samples\n",
      "10000 validation samples\n",
      "10000 test samples\n"
     ]
    }
   ],
   "source": [
    "(X_train, y_train), (X_test, y_test) = mnist.load_data()\n",
    "\n",
    "# Split the training set into a training set and a validation set\n",
    "X_val = X_train[0:10000,:,:]\n",
    "X_train = X_train[10000:,:,:]\n",
    "y_val = y_train[0:10000]\n",
    "y_train = y_train[10000:]\n",
    "\n",
    "n_train, height, width = X_train.shape\n",
    "n_val, _, _ = X_val.shape\n",
    "n_test, _, _ = X_test.shape\n",
    "\n",
    "X_train = X_train.reshape(n_train, height, width, 1).astype('float32')\n",
    "X_val = X_val.reshape(n_val, height, width, 1).astype('float32')\n",
    "X_test = X_test.reshape(n_test, height, width, 1).astype('float32')\n",
    "\n",
    "X_train /= 255.0\n",
    "X_val /= 255.0\n",
    "X_test /= 255.0\n",
    "\n",
    "n_classes = 10\n",
    "\n",
    "print(n_train, 'train samples')\n",
    "print(n_val, 'validation samples')\n",
    "print(n_test, 'test samples')\n",
    "\n",
    "# convert class vectors to binary class matrices\n",
    "Y_train = tf.keras.utils.to_categorical(y_train, n_classes)\n",
    "Y_val = tf.keras.utils.to_categorical(y_val, n_classes)\n",
    "Y_test = tf.keras.utils.to_categorical(y_test, n_classes)"
   ]
  },
  {
   "cell_type": "markdown",
   "metadata": {
    "id": "TazeB7LLbagE"
   },
   "source": [
    "### An example of how to compute the histogram of gradients\n",
    "Let's compute the HOG for one image in the test dataset"
   ]
  },
  {
   "cell_type": "code",
   "execution_count": 3,
   "metadata": {
    "id": "cL-609oKbagI"
   },
   "outputs": [
    {
     "data": {
      "text/plain": [
       "1568"
      ]
     },
     "execution_count": 3,
     "metadata": {},
     "output_type": "execute_result"
    }
   ],
   "source": [
    "n_orientations = 8\n",
    "pix_p_cell = 2\n",
    "hog_size = int(height * width * n_orientations / (pix_p_cell * pix_p_cell))\n",
    "hog_size"
   ]
  },
  {
   "cell_type": "code",
   "execution_count": 4,
   "metadata": {
    "id": "r2DA2Da_bage"
   },
   "outputs": [],
   "source": [
    "fd, hog_image = hog(X_test[11,:,:,0], orientations=n_orientations, pixels_per_cell=(pix_p_cell, pix_p_cell), cells_per_block=(1, 1), visualize=True)\n",
    "hog_image_rescaled = exposure.rescale_intensity(hog_image, in_range=(0, 0.02))"
   ]
  },
  {
   "cell_type": "markdown",
   "metadata": {
    "id": "s2Ow4uJtbago"
   },
   "source": [
    "Show the image and the corresponding gradients"
   ]
  },
  {
   "cell_type": "code",
   "execution_count": 5,
   "metadata": {
    "id": "83RZeljKbagu"
   },
   "outputs": [
    {
     "data": {
      "image/png": "[encoded data removed]",
      "text/plain": [
       "<Figure size 1200x600 with 2 Axes>"
      ]
     },
     "metadata": {},
     "output_type": "display_data"
    }
   ],
   "source": [
    "fig, (ax1, ax2) = pl.subplots(1, 2, figsize=(12, 6), sharex=True, sharey=True)\n",
    "ax1.axis('off')\n",
    "ax1.imshow(X_test[11,:,:,0], cmap=pl.get_cmap('Greys'), interpolation='nearest')\n",
    "ax1.set_title('Input image')\n",
    "ax1.set_adjustable('box')\n",
    "\n",
    "ax2.axis('off')\n",
    "ax2.imshow(hog_image_rescaled, cmap=pl.get_cmap('Greys'), interpolation='nearest')\n",
    "ax2.set_title('Histogram of Oriented Gradients')\n",
    "ax1.set_adjustable('box')"
   ]
  },
  {
   "cell_type": "markdown",
   "metadata": {
    "id": "3Yv-ep9ybag4"
   },
   "source": [
    "Compute the HOGs for the train, the validation and the test datasets\n",
    "\n",
    "> Indented block\n",
    "\n"
   ]
  },
  {
   "cell_type": "code",
   "execution_count": 6,
   "metadata": {
    "id": "y8Q3cdrebag6"
   },
   "outputs": [
    {
     "name": "stdout",
     "output_type": "stream",
     "text": [
      "X_train done\n",
      "X_val done\n",
      "X_test done\n"
     ]
    }
   ],
   "source": [
    "X_train_hog = np.zeros((X_train.shape[0], hog_size))\n",
    "X_val_hog = np.zeros((X_val.shape[0], hog_size))\n",
    "X_test_hog = np.zeros((X_test.shape[0], hog_size))\n",
    "\n",
    "for i in np.arange(X_train_hog.shape[0]):\n",
    "    X_train_hog[i,:] = hog(X_train[i,:,:,0], orientations=n_orientations, pixels_per_cell=(pix_p_cell, pix_p_cell), cells_per_block=(1, 1), visualize=False)\n",
    "print('X_train done')\n",
    "\n",
    "for i in np.arange(X_val_hog.shape[0]):\n",
    "    X_val_hog[i,:] = hog(X_val[i,:,:,0], orientations=n_orientations, pixels_per_cell=(pix_p_cell, pix_p_cell), cells_per_block=(1, 1), visualize=False)\n",
    "print('X_val done')\n",
    "\n",
    "for i in np.arange(X_test_hog.shape[0]):\n",
    "    X_test_hog[i,:] = hog(X_test[i,:,:,0], orientations=n_orientations, pixels_per_cell=(pix_p_cell, pix_p_cell), cells_per_block=(1, 1), visualize=False)\n",
    "print('X_test done')"
   ]
  },
  {
   "cell_type": "markdown",
   "metadata": {
    "id": "kos0aTYmbahU"
   },
   "source": [
    "Create the MLP"
   ]
  },
  {
   "cell_type": "code",
   "execution_count": 7,
   "metadata": {
    "id": "NnawtqztbahV"
   },
   "outputs": [
    {
     "name": "stdout",
     "output_type": "stream",
     "text": [
      "Model: \"sequential\"\n",
      "_________________________________________________________________\n",
      " Layer (type)                Output Shape              Param #   \n",
      "=================================================================\n",
      " dense (Dense)               (None, 1000)              1569000   \n",
      "                                                                 \n",
      " dropout (Dropout)           (None, 1000)              0         \n",
      "                                                                 \n",
      " dense_1 (Dense)             (None, 10)                10010     \n",
      "                                                                 \n",
      "=================================================================\n",
      "Total params: 1579010 (6.02 MB)\n",
      "Trainable params: 1579010 (6.02 MB)\n",
      "Non-trainable params: 0 (0.00 Byte)\n",
      "_________________________________________________________________\n"
     ]
    }
   ],
   "source": [
    "model = Sequential()\n",
    "model.add(Dense(1000, input_shape=(hog_size,), activation='relu'))\n",
    "model.add(Dropout(0.5))\n",
    "model.add(Dense(n_classes, activation='softmax'))\n",
    "\n",
    "model.summary()"
   ]
  },
  {
   "cell_type": "markdown",
   "metadata": {
    "id": "EGeviXzJbahY"
   },
   "source": [
    "Define some constants and train the MLP. In order to perform the model selection process, you train each model with the train dataset and evaluate it with the validation dataset. The test set remains unseen."
   ]
  },
  {
   "cell_type": "code",
   "execution_count": 8,
   "metadata": {
    "id": "laKFY8vcbahZ"
   },
   "outputs": [
    {
     "name": "stderr",
     "output_type": "stream",
     "text": [
      "WARNING:absl:At this time, the v2.11+ optimizer `tf.keras.optimizers.RMSprop` runs slowly on M1/M2 Macs, please use the legacy Keras optimizer instead, located at `tf.keras.optimizers.legacy.RMSprop`.\n"
     ]
    },
    {
     "name": "stdout",
     "output_type": "stream",
     "text": [
      "Epoch 1/80\n",
      "391/391 [==============================] - 2s 6ms/step - loss: 0.1481 - accuracy: 0.9556 - val_loss: 0.0793 - val_accuracy: 0.9753\n",
      "Epoch 2/80\n",
      "391/391 [==============================] - 2s 5ms/step - loss: 0.0599 - accuracy: 0.9808 - val_loss: 0.0711 - val_accuracy: 0.9766\n",
      "Epoch 3/80\n",
      "391/391 [==============================] - 2s 5ms/step - loss: 0.0388 - accuracy: 0.9877 - val_loss: 0.0685 - val_accuracy: 0.9789\n",
      "Epoch 4/80\n",
      "391/391 [==============================] - 2s 6ms/step - loss: 0.0247 - accuracy: 0.9919 - val_loss: 0.0623 - val_accuracy: 0.9823\n",
      "Epoch 5/80\n",
      "391/391 [==============================] - 2s 6ms/step - loss: 0.0177 - accuracy: 0.9943 - val_loss: 0.0719 - val_accuracy: 0.9789\n",
      "Epoch 6/80\n",
      "391/391 [==============================] - 2s 6ms/step - loss: 0.0123 - accuracy: 0.9964 - val_loss: 0.0665 - val_accuracy: 0.9826\n",
      "Epoch 7/80\n",
      "391/391 [==============================] - 2s 6ms/step - loss: 0.0095 - accuracy: 0.9972 - val_loss: 0.0680 - val_accuracy: 0.9828\n",
      "Epoch 8/80\n",
      "391/391 [==============================] - 2s 6ms/step - loss: 0.0073 - accuracy: 0.9978 - val_loss: 0.0697 - val_accuracy: 0.9825\n",
      "Epoch 9/80\n",
      "391/391 [==============================] - 2s 6ms/step - loss: 0.0049 - accuracy: 0.9986 - val_loss: 0.0712 - val_accuracy: 0.9831\n",
      "Epoch 10/80\n",
      "391/391 [==============================] - 2s 6ms/step - loss: 0.0044 - accuracy: 0.9987 - val_loss: 0.0703 - val_accuracy: 0.9829\n",
      "Epoch 11/80\n",
      "391/391 [==============================] - 2s 6ms/step - loss: 0.0030 - accuracy: 0.9993 - val_loss: 0.0720 - val_accuracy: 0.9837\n",
      "Epoch 12/80\n",
      "391/391 [==============================] - 2s 6ms/step - loss: 0.0023 - accuracy: 0.9995 - val_loss: 0.0754 - val_accuracy: 0.9837\n",
      "Epoch 13/80\n",
      "391/391 [==============================] - 2s 6ms/step - loss: 0.0017 - accuracy: 0.9997 - val_loss: 0.0738 - val_accuracy: 0.9839\n",
      "Epoch 14/80\n",
      "391/391 [==============================] - 2s 6ms/step - loss: 0.0012 - accuracy: 0.9998 - val_loss: 0.0775 - val_accuracy: 0.9838\n",
      "Epoch 15/80\n",
      "391/391 [==============================] - 2s 6ms/step - loss: 0.0014 - accuracy: 0.9997 - val_loss: 0.0767 - val_accuracy: 0.9837\n",
      "Epoch 16/80\n",
      "391/391 [==============================] - 2s 6ms/step - loss: 0.0010 - accuracy: 0.9999 - val_loss: 0.0756 - val_accuracy: 0.9845\n",
      "Epoch 17/80\n",
      "391/391 [==============================] - 2s 6ms/step - loss: 8.8626e-04 - accuracy: 0.9999 - val_loss: 0.0772 - val_accuracy: 0.9846\n",
      "Epoch 18/80\n",
      "391/391 [==============================] - 2s 6ms/step - loss: 8.5205e-04 - accuracy: 0.9999 - val_loss: 0.0776 - val_accuracy: 0.9846\n",
      "Epoch 19/80\n",
      "391/391 [==============================] - 2s 6ms/step - loss: 6.5185e-04 - accuracy: 0.9999 - val_loss: 0.0810 - val_accuracy: 0.9833\n",
      "Epoch 20/80\n",
      "391/391 [==============================] - 2s 6ms/step - loss: 7.3341e-04 - accuracy: 0.9999 - val_loss: 0.0778 - val_accuracy: 0.9850\n",
      "Epoch 21/80\n",
      "391/391 [==============================] - 2s 6ms/step - loss: 6.5682e-04 - accuracy: 0.9999 - val_loss: 0.0810 - val_accuracy: 0.9839\n",
      "Epoch 22/80\n",
      "391/391 [==============================] - 2s 6ms/step - loss: 5.7258e-04 - accuracy: 0.9999 - val_loss: 0.0781 - val_accuracy: 0.9845\n",
      "Epoch 23/80\n",
      "391/391 [==============================] - 2s 6ms/step - loss: 5.1476e-04 - accuracy: 1.0000 - val_loss: 0.0787 - val_accuracy: 0.9848\n",
      "Epoch 24/80\n",
      "391/391 [==============================] - 2s 6ms/step - loss: 4.8908e-04 - accuracy: 0.9999 - val_loss: 0.0816 - val_accuracy: 0.9849\n",
      "Epoch 25/80\n",
      "391/391 [==============================] - 2s 6ms/step - loss: 4.2710e-04 - accuracy: 1.0000 - val_loss: 0.0804 - val_accuracy: 0.9841\n",
      "Epoch 26/80\n",
      "391/391 [==============================] - 2s 6ms/step - loss: 3.8666e-04 - accuracy: 0.9999 - val_loss: 0.0801 - val_accuracy: 0.9848\n",
      "Epoch 27/80\n",
      "391/391 [==============================] - 2s 6ms/step - loss: 3.1563e-04 - accuracy: 1.0000 - val_loss: 0.0835 - val_accuracy: 0.9840\n",
      "Epoch 28/80\n",
      "391/391 [==============================] - 2s 6ms/step - loss: 3.1496e-04 - accuracy: 1.0000 - val_loss: 0.0837 - val_accuracy: 0.9842\n",
      "Epoch 29/80\n",
      "391/391 [==============================] - 3s 6ms/step - loss: 2.9380e-04 - accuracy: 1.0000 - val_loss: 0.0830 - val_accuracy: 0.9849\n",
      "Epoch 30/80\n",
      "391/391 [==============================] - 3s 7ms/step - loss: 3.0979e-04 - accuracy: 0.9999 - val_loss: 0.0832 - val_accuracy: 0.9845\n",
      "Epoch 31/80\n",
      "391/391 [==============================] - 3s 7ms/step - loss: 2.9421e-04 - accuracy: 1.0000 - val_loss: 0.0842 - val_accuracy: 0.9844\n",
      "Epoch 32/80\n",
      "391/391 [==============================] - 3s 7ms/step - loss: 2.2936e-04 - accuracy: 1.0000 - val_loss: 0.0856 - val_accuracy: 0.9842\n",
      "Epoch 33/80\n",
      "391/391 [==============================] - 3s 7ms/step - loss: 2.0461e-04 - accuracy: 1.0000 - val_loss: 0.0856 - val_accuracy: 0.9844\n",
      "Epoch 34/80\n",
      "391/391 [==============================] - 3s 7ms/step - loss: 2.5602e-04 - accuracy: 1.0000 - val_loss: 0.0832 - val_accuracy: 0.9850\n",
      "Epoch 35/80\n",
      "391/391 [==============================] - 3s 6ms/step - loss: 2.1152e-04 - accuracy: 1.0000 - val_loss: 0.0850 - val_accuracy: 0.9848\n",
      "Epoch 36/80\n",
      "391/391 [==============================] - 3s 7ms/step - loss: 2.1742e-04 - accuracy: 1.0000 - val_loss: 0.0861 - val_accuracy: 0.9852\n",
      "Epoch 37/80\n",
      "391/391 [==============================] - 3s 7ms/step - loss: 1.7504e-04 - accuracy: 1.0000 - val_loss: 0.0865 - val_accuracy: 0.9845\n",
      "Epoch 38/80\n",
      "391/391 [==============================] - 3s 7ms/step - loss: 1.9889e-04 - accuracy: 1.0000 - val_loss: 0.0861 - val_accuracy: 0.9854\n",
      "Epoch 39/80\n",
      "391/391 [==============================] - 3s 6ms/step - loss: 1.7578e-04 - accuracy: 1.0000 - val_loss: 0.0871 - val_accuracy: 0.9851\n",
      "Epoch 40/80\n",
      "391/391 [==============================] - 3s 7ms/step - loss: 2.1483e-04 - accuracy: 0.9999 - val_loss: 0.0874 - val_accuracy: 0.9849\n",
      "Epoch 41/80\n",
      "391/391 [==============================] - 3s 7ms/step - loss: 1.6414e-04 - accuracy: 1.0000 - val_loss: 0.0867 - val_accuracy: 0.9848\n",
      "Epoch 42/80\n",
      "391/391 [==============================] - 3s 7ms/step - loss: 1.3899e-04 - accuracy: 1.0000 - val_loss: 0.0878 - val_accuracy: 0.9848\n",
      "Epoch 43/80\n",
      "391/391 [==============================] - 3s 7ms/step - loss: 1.2992e-04 - accuracy: 1.0000 - val_loss: 0.0887 - val_accuracy: 0.9848\n",
      "Epoch 44/80\n",
      "391/391 [==============================] - 3s 7ms/step - loss: 1.7695e-04 - accuracy: 1.0000 - val_loss: 0.0886 - val_accuracy: 0.9849\n",
      "Epoch 45/80\n",
      "391/391 [==============================] - 3s 7ms/step - loss: 1.6907e-04 - accuracy: 1.0000 - val_loss: 0.0875 - val_accuracy: 0.9846\n",
      "Epoch 46/80\n",
      "391/391 [==============================] - 3s 7ms/step - loss: 1.1820e-04 - accuracy: 1.0000 - val_loss: 0.0888 - val_accuracy: 0.9850\n",
      "Epoch 47/80\n",
      "391/391 [==============================] - 3s 7ms/step - loss: 1.3892e-04 - accuracy: 1.0000 - val_loss: 0.0888 - val_accuracy: 0.9846\n",
      "Epoch 48/80\n",
      "391/391 [==============================] - 3s 7ms/step - loss: 1.2813e-04 - accuracy: 1.0000 - val_loss: 0.0885 - val_accuracy: 0.9849\n",
      "Epoch 49/80\n",
      "391/391 [==============================] - 3s 7ms/step - loss: 1.3172e-04 - accuracy: 1.0000 - val_loss: 0.0889 - val_accuracy: 0.9850\n",
      "Epoch 50/80\n",
      "391/391 [==============================] - 3s 7ms/step - loss: 1.3506e-04 - accuracy: 1.0000 - val_loss: 0.0894 - val_accuracy: 0.9851\n",
      "Epoch 51/80\n",
      "391/391 [==============================] - 3s 7ms/step - loss: 1.1312e-04 - accuracy: 1.0000 - val_loss: 0.0895 - val_accuracy: 0.9853\n",
      "Epoch 52/80\n",
      "391/391 [==============================] - 3s 7ms/step - loss: 1.1215e-04 - accuracy: 1.0000 - val_loss: 0.0912 - val_accuracy: 0.9847\n",
      "Epoch 53/80\n",
      "391/391 [==============================] - 3s 7ms/step - loss: 1.2065e-04 - accuracy: 1.0000 - val_loss: 0.0904 - val_accuracy: 0.9849\n",
      "Epoch 54/80\n",
      "391/391 [==============================] - 3s 7ms/step - loss: 1.2087e-04 - accuracy: 1.0000 - val_loss: 0.0899 - val_accuracy: 0.9856\n",
      "Epoch 55/80\n",
      "391/391 [==============================] - 3s 7ms/step - loss: 1.0481e-04 - accuracy: 1.0000 - val_loss: 0.0897 - val_accuracy: 0.9850\n",
      "Epoch 56/80\n",
      "391/391 [==============================] - 3s 7ms/step - loss: 1.3234e-04 - accuracy: 1.0000 - val_loss: 0.0901 - val_accuracy: 0.9850\n",
      "Epoch 57/80\n",
      "391/391 [==============================] - 3s 7ms/step - loss: 1.4277e-04 - accuracy: 1.0000 - val_loss: 0.0901 - val_accuracy: 0.9845\n",
      "Epoch 58/80\n",
      "391/391 [==============================] - 3s 7ms/step - loss: 1.3282e-04 - accuracy: 1.0000 - val_loss: 0.0881 - val_accuracy: 0.9849\n",
      "Epoch 59/80\n",
      "391/391 [==============================] - 3s 7ms/step - loss: 1.0734e-04 - accuracy: 1.0000 - val_loss: 0.0884 - val_accuracy: 0.9845\n",
      "Epoch 60/80\n",
      "391/391 [==============================] - 3s 7ms/step - loss: 1.6345e-04 - accuracy: 1.0000 - val_loss: 0.0896 - val_accuracy: 0.9837\n",
      "Epoch 61/80\n",
      "391/391 [==============================] - 3s 7ms/step - loss: 1.4860e-04 - accuracy: 1.0000 - val_loss: 0.0869 - val_accuracy: 0.9845\n",
      "Epoch 62/80\n",
      "391/391 [==============================] - 3s 7ms/step - loss: 9.0283e-05 - accuracy: 1.0000 - val_loss: 0.0877 - val_accuracy: 0.9853\n",
      "Epoch 63/80\n",
      "391/391 [==============================] - 3s 7ms/step - loss: 1.1641e-04 - accuracy: 1.0000 - val_loss: 0.0873 - val_accuracy: 0.9846\n",
      "Epoch 64/80\n",
      "391/391 [==============================] - 3s 7ms/step - loss: 1.0055e-04 - accuracy: 1.0000 - val_loss: 0.0885 - val_accuracy: 0.9852\n",
      "Epoch 65/80\n",
      "391/391 [==============================] - 3s 7ms/step - loss: 1.1125e-04 - accuracy: 1.0000 - val_loss: 0.0877 - val_accuracy: 0.9851\n",
      "Epoch 66/80\n",
      "391/391 [==============================] - 3s 7ms/step - loss: 1.0939e-04 - accuracy: 1.0000 - val_loss: 0.0891 - val_accuracy: 0.9844\n",
      "Epoch 67/80\n",
      "391/391 [==============================] - 3s 7ms/step - loss: 9.2163e-05 - accuracy: 1.0000 - val_loss: 0.0901 - val_accuracy: 0.9849\n",
      "Epoch 68/80\n",
      "391/391 [==============================] - 3s 7ms/step - loss: 9.1095e-05 - accuracy: 1.0000 - val_loss: 0.0891 - val_accuracy: 0.9846\n",
      "Epoch 69/80\n",
      "391/391 [==============================] - 3s 7ms/step - loss: 9.2084e-05 - accuracy: 1.0000 - val_loss: 0.0902 - val_accuracy: 0.9849\n",
      "Epoch 70/80\n",
      "391/391 [==============================] - 3s 7ms/step - loss: 7.6362e-05 - accuracy: 1.0000 - val_loss: 0.0902 - val_accuracy: 0.9854\n",
      "Epoch 71/80\n",
      "391/391 [==============================] - 3s 7ms/step - loss: 7.2003e-05 - accuracy: 1.0000 - val_loss: 0.0901 - val_accuracy: 0.9853\n",
      "Epoch 72/80\n",
      "391/391 [==============================] - 3s 7ms/step - loss: 8.2590e-05 - accuracy: 1.0000 - val_loss: 0.0890 - val_accuracy: 0.9856\n",
      "Epoch 73/80\n",
      "391/391 [==============================] - 3s 7ms/step - loss: 8.9892e-05 - accuracy: 1.0000 - val_loss: 0.0903 - val_accuracy: 0.9858\n",
      "Epoch 74/80\n",
      "391/391 [==============================] - 3s 7ms/step - loss: 7.9768e-05 - accuracy: 1.0000 - val_loss: 0.0898 - val_accuracy: 0.9854\n",
      "Epoch 75/80\n",
      "391/391 [==============================] - 3s 7ms/step - loss: 7.4891e-05 - accuracy: 1.0000 - val_loss: 0.0906 - val_accuracy: 0.9850\n",
      "Epoch 76/80\n",
      "391/391 [==============================] - 3s 7ms/step - loss: 9.4397e-05 - accuracy: 1.0000 - val_loss: 0.0896 - val_accuracy: 0.9849\n",
      "Epoch 77/80\n",
      "391/391 [==============================] - 3s 7ms/step - loss: 8.2467e-05 - accuracy: 1.0000 - val_loss: 0.0912 - val_accuracy: 0.9851\n",
      "Epoch 78/80\n",
      "391/391 [==============================] - 3s 7ms/step - loss: 8.5384e-05 - accuracy: 1.0000 - val_loss: 0.0908 - val_accuracy: 0.9850\n",
      "Epoch 79/80\n",
      "391/391 [==============================] - 3s 7ms/step - loss: 6.5805e-05 - accuracy: 1.0000 - val_loss: 0.0902 - val_accuracy: 0.9852\n",
      "Epoch 80/80\n",
      "391/391 [==============================] - 3s 7ms/step - loss: 6.6997e-05 - accuracy: 1.0000 - val_loss: 0.0924 - val_accuracy: 0.9847\n"
     ]
    }
   ],
   "source": [
    "batch_size = 128\n",
    "n_epoch = 80\n",
    "\n",
    "model.compile(loss='categorical_crossentropy', optimizer=RMSprop(), metrics=['accuracy'])\n",
    "history = model.fit(X_train_hog, Y_train,\n",
    "                    batch_size=batch_size, epochs=n_epoch,\n",
    "                    verbose=1, validation_data=(X_val_hog, Y_val))"
   ]
  },
  {
   "cell_type": "markdown",
   "metadata": {
    "id": "aezTZuCMbahf"
   },
   "source": [
    "Show the performance of the model. By observing the performance of your models on the validation set, you will choose a set of hyperparameters for your final model. The test set is still not used at this point."
   ]
  },
  {
   "cell_type": "code",
   "execution_count": 9,
   "metadata": {
    "id": "u6E66I52bahg"
   },
   "outputs": [
    {
     "name": "stdout",
     "output_type": "stream",
     "text": [
      "Validation score: 0.09244658797979355\n",
      "Validation accuracy: 0.9847000241279602\n"
     ]
    },
    {
     "data": {
      "image/png": "[encoded data removed]",
      "text/plain": [
       "<Figure size 640x480 with 1 Axes>"
      ]
     },
     "metadata": {},
     "output_type": "display_data"
    }
   ],
   "source": [
    "pl.plot(history.history['loss'], label='Training')\n",
    "pl.plot(history.history['val_loss'], label='Validation')\n",
    "pl.legend()\n",
    "pl.grid()\n",
    "\n",
    "score = model.evaluate(X_val_hog, Y_val, verbose=0)\n",
    "print('Validation score:', score[0])\n",
    "print('Validation accuracy:', score[1])"
   ]
  },
  {
   "cell_type": "markdown",
   "metadata": {
    "id": "MbgsBu3-_-UR"
   },
   "source": [
    "Now that you have chosen your final model, you can finally evaluate its performance using the test set. It is important that the test set remains hidden for your model until this last step in order to have an unbiased estimate of the performance. Therefore, you should not run the following cell until you have chosen your final model."
   ]
  },
  {
   "cell_type": "code",
   "execution_count": 10,
   "metadata": {
    "id": "wNhgXsFMAD-_"
   },
   "outputs": [
    {
     "name": "stdout",
     "output_type": "stream",
     "text": [
      "FINAL RESULTS:\n",
      "Test score: 0.06795388460159302\n",
      "Test accuracy: 0.9860000014305115\n"
     ]
    }
   ],
   "source": [
    "final_score = model.evaluate(X_test_hog, Y_test, verbose=0)\n",
    "print('FINAL RESULTS:')\n",
    "print('Test score:', final_score[0])\n",
    "print('Test accuracy:', final_score[1])"
   ]
  },
  {
   "cell_type": "markdown",
   "metadata": {
    "id": "axdxLHYMbahu"
   },
   "source": [
    "Confusion matrix"
   ]
  },
  {
   "cell_type": "code",
   "execution_count": 11,
   "metadata": {
    "id": "Mhm1wjNfbahv"
   },
   "outputs": [
    {
     "name": "stdout",
     "output_type": "stream",
     "text": [
      "313/313 [==============================] - 1s 2ms/step\n"
     ]
    },
    {
     "data": {
      "text/plain": [
       "array([[ 974,    0,    0,    0,    0,    1,    2,    1,    1,    1],\n",
       "       [   0, 1129,    2,    1,    1,    1,    1,    0,    0,    0],\n",
       "       [   2,    4, 1016,    0,    1,    0,    2,    4,    3,    0],\n",
       "       [   0,    0,    0,  997,    0,    6,    0,    3,    3,    1],\n",
       "       [   1,    2,    1,    0,  970,    0,    1,    1,    1,    5],\n",
       "       [   0,    0,    1,    6,    0,  881,    2,    0,    2,    0],\n",
       "       [   5,    3,    0,    0,    4,    3,  941,    0,    2,    0],\n",
       "       [   1,    1,    4,    0,    1,    0,    0, 1011,    3,    7],\n",
       "       [   1,    1,    1,    3,    0,    2,    0,    2,  960,    4],\n",
       "       [   0,    5,    1,    3,    6,    4,    0,    6,    3,  981]])"
      ]
     },
     "execution_count": 11,
     "metadata": {},
     "output_type": "execute_result"
    }
   ],
   "source": [
    "pred = model.predict(X_test_hog)\n",
    "pred = np.argmax(pred, axis=-1)\n",
    "me.confusion_matrix(y_test, pred)"
   ]
  },
  {
   "cell_type": "code",
   "execution_count": null,
   "metadata": {},
   "outputs": [],
   "source": []
  }
 ],
 "metadata": {
  "accelerator": "GPU",
  "colab": {
   "provenance": []
  },
  "kernelspec": {
   "display_name": "Python 3 (ipykernel)",
   "language": "python",
   "name": "python3"
  },
  "language_info": {
   "codemirror_mode": {
    "name": "ipython",
    "version": 3
   },
   "file_extension": ".py",
   "mimetype": "text/x-python",
   "name": "python",
   "nbconvert_exporter": "python",
   "pygments_lexer": "ipython3",
   "version": "3.11.5"
  }
 },
 "nbformat": 4,
 "nbformat_minor": 4
}
