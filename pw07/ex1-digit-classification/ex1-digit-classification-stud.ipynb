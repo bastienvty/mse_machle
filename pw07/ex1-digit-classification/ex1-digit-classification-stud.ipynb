{
 "cells": [
  {
   "cell_type": "markdown",
   "id": "beb723b7",
   "metadata": {},
   "source": [
    "# Exercice 1 - Digit classification system using different SVM classifiers"
   ]
  },
  {
   "cell_type": "markdown",
   "id": "a28d1610",
   "metadata": {},
   "source": [
    "## Imports"
   ]
  },
  {
   "cell_type": "code",
   "execution_count": 1,
   "id": "6c1ce1ab",
   "metadata": {},
   "outputs": [],
   "source": [
    "import gzip\n",
    "import _pickle as cPickle\n",
    "\n",
    "# Add your imports here"
   ]
  },
  {
   "cell_type": "markdown",
   "id": "ef20c5b1",
   "metadata": {},
   "source": [
    "## Exercise's steps"
   ]
  },
  {
   "cell_type": "markdown",
   "id": "c76dc85b",
   "metadata": {},
   "source": [
    "The objective of this exercise is to build a classification system able to classify the images of handwritten digits (0–9) coming from the MNIST database and using SVM with different types of kernels (linear, polynomial, RBF, ...). For that purpose, you will use the SVM library available in [_Scikit-learn_](http://scikit-learn.org)."
   ]
  },
  {
   "cell_type": "markdown",
   "id": "07c7a34c",
   "metadata": {},
   "source": [
    "### a. Getting the training and test sample sets from the MNIST database"
   ]
  },
  {
   "cell_type": "markdown",
   "id": "c4d2bc77",
   "metadata": {},
   "source": [
    "#### a) Load MNIST digit dataset"
   ]
  },
  {
   "cell_type": "code",
   "execution_count": 2,
   "id": "709e53fb",
   "metadata": {},
   "outputs": [
    {
     "name": "stdout",
     "output_type": "stream",
     "text": [
      "Training set: 50000\n",
      "Validation set: 10000\n",
      "Test set: 10000\n"
     ]
    }
   ],
   "source": [
    "# Load training, validation (not used in the PW) and test datasets\n",
    "with gzip.open(\"mnist.pkl.gz\", \"rb\") as f:\n",
    "    train_set, valid_set, test_set = cPickle.load(f, encoding=\"latin1\")\n",
    "\n",
    "# Print the shape of the various datasets\n",
    "print(\"Training set:\", len(train_set[0]))\n",
    "print(\"Validation set:\", len(valid_set[0]))\n",
    "print(\"Test set:\", len(test_set[0]))"
   ]
  },
  {
   "cell_type": "markdown",
   "id": "d6e4195f",
   "metadata": {},
   "source": [
    "#### b) Visualize (plot) the images of some digits of the MNIST database"
   ]
  },
  {
   "cell_type": "code",
   "execution_count": 3,
   "id": "ca577454",
   "metadata": {},
   "outputs": [],
   "source": [
    "# Your code here"
   ]
  },
  {
   "cell_type": "markdown",
   "id": "39ec94ff",
   "metadata": {},
   "source": [
    "#### c) Build the final training and test sets, which should be balanced"
   ]
  },
  {
   "cell_type": "code",
   "execution_count": 4,
   "id": "f1f294ce",
   "metadata": {},
   "outputs": [],
   "source": [
    "# Your code here"
   ]
  },
  {
   "cell_type": "markdown",
   "id": "2e7e9543",
   "metadata": {},
   "source": [
    "### b. Classification of digits based on raw pixel values using SVM and different kernels"
   ]
  },
  {
   "cell_type": "markdown",
   "id": "5b53901f",
   "metadata": {},
   "source": [
    "Create, train and test several SVM classifiers with different kernels (linear, polynomial, RBF, ...). For the training, perform a cross-validation using 10 folds, and test different with several $C$ and kernel parameter values (e.g. for $\\gamma$ for RBF kernel) in order to get the best classifier. After the test, display the classification performances and confusion matrix of each SVM classifier (see class _metrics_)."
   ]
  },
  {
   "cell_type": "code",
   "execution_count": 5,
   "id": "4ebdc991",
   "metadata": {
    "scrolled": false
   },
   "outputs": [],
   "source": [
    "# Your code here"
   ]
  },
  {
   "cell_type": "markdown",
   "id": "ace70baf",
   "metadata": {},
   "source": [
    "### c. (Optional) Impact of preprocessing and feature extraction"
   ]
  },
  {
   "cell_type": "markdown",
   "id": "aa9ffb23",
   "metadata": {},
   "source": [
    "Analyse the impact of the classification performances using the following preprocessing and feature extraction steps:"
   ]
  },
  {
   "cell_type": "markdown",
   "id": "a04e4645",
   "metadata": {},
   "source": [
    "#### a) Preprocessing step: convert images to binary (i.e. black and white) representations "
   ]
  },
  {
   "cell_type": "code",
   "execution_count": 6,
   "id": "3e4c0b00",
   "metadata": {
    "scrolled": false
   },
   "outputs": [],
   "source": [
    "# Your code here"
   ]
  },
  {
   "cell_type": "markdown",
   "id": "11354cdc",
   "metadata": {},
   "source": [
    "#### b) Feature extraction steps:\n",
    "* Horizontal and vertical projections (i.e. compute the sum of grey pixel values along the the X and Y-axis)\n",
    "* Local binary patterns\n",
    "* Any other usable image features that you may have found"
   ]
  },
  {
   "cell_type": "code",
   "execution_count": 7,
   "id": "38d41dfe",
   "metadata": {},
   "outputs": [],
   "source": [
    "# Your code here"
   ]
  },
  {
   "cell_type": "markdown",
   "id": "728272e0",
   "metadata": {},
   "source": [
    "### d. Analysis of the results"
   ]
  },
  {
   "cell_type": "markdown",
   "id": "495b5dc0",
   "metadata": {},
   "source": [
    "Analyse the results obtained with the best SVM classifier."
   ]
  },
  {
   "cell_type": "markdown",
   "id": "0351139a",
   "metadata": {},
   "source": [
    "a) Which kernel and parameters were used?"
   ]
  },
  {
   "cell_type": "markdown",
   "id": "8019f76f",
   "metadata": {},
   "source": [
    "_Your answer here_"
   ]
  },
  {
   "cell_type": "markdown",
   "id": "e850ab33",
   "metadata": {},
   "source": [
    "b) Which digit classes are the best/worse recognized against which? Why?"
   ]
  },
  {
   "cell_type": "markdown",
   "id": "7b22ec44",
   "metadata": {},
   "source": [
    "_Your answer here_"
   ]
  },
  {
   "cell_type": "markdown",
   "id": "768da3e9",
   "metadata": {},
   "source": [
    "c) What is the impact of the sizes of the training and test sets on the classification performance?"
   ]
  },
  {
   "cell_type": "markdown",
   "id": "b27e0e55",
   "metadata": {},
   "source": [
    "_Your answer here_"
   ]
  },
  {
   "cell_type": "code",
   "execution_count": null,
   "id": "679917f1",
   "metadata": {},
   "outputs": [],
   "source": []
  }
 ],
 "metadata": {
  "kernelspec": {
   "display_name": "Python 3 (ipykernel)",
   "language": "python",
   "name": "python3"
  },
  "language_info": {
   "codemirror_mode": {
    "name": "ipython",
    "version": 3
   },
   "file_extension": ".py",
   "mimetype": "text/x-python",
   "name": "python",
   "nbconvert_exporter": "python",
   "pygments_lexer": "ipython3",
   "version": "3.7.11"
  }
 },
 "nbformat": 4,
 "nbformat_minor": 5
}
