{
 "cells": [
  {
   "cell_type": "markdown",
   "id": "33b31583",
   "metadata": {},
   "source": [
    "# Exercise 1 - Analysis"
   ]
  },
  {
   "cell_type": "markdown",
   "id": "51225f27",
   "metadata": {},
   "source": [
    "The bank UBS is offering to its client the possibility to invest money in funds. See https://fundgate.ubs.com/. There are thousands of investment funds available. Clients, according to their profile, will be more or less inclined to invest in a given fund, according to the fund characteristics. For example, a younger client with no child is potentially more interested into funds composed with stocks, showing higher risks but also higher potential returns. A family father will be more inclined to invest into low-risk funds. UBS want to build a system taking as input a set of values characterizing the fund and a set of values defining the client profile.\n",
    "\n",
    "An investment fund can be characterized by the following elements: \n",
    "\n",
    "- The name of the fund.\n",
    "- The current value of 1 share in the fund, expressed in CHF.\n",
    "- The proportion of stock and bonds composing the fund (2 values in percentage).\n",
    "- A vector of float values with the 5 last yearly returns over years from 2015 to 2019 (5 values expressed in percentage).\n",
    "- A level of risk expressed with A, B, C, D, E with A representing the highest risk and E representing the lowest risk level.\n",
    "- A sectorial information such as technology, pharmaceutical, financial. There are 24 different sectors available in UBS funds.\n",
    "\n",
    "A client profile contains the following information: \n",
    "\n",
    "- First name and last name of the client.\n",
    "- The mother tongue of the client (mostly de, fr, it and en but other languages are present).\n",
    "- The age of the client.\n",
    "- The number of children of the client.\n",
    "- The current wealth of the client that could be used to buy funds, expressed in CHF (total of cash available in the different accounts, not yet invested in funds).\n",
    "- The postal code of the address of the client.\n",
    "- A level of acceptance to risk expressed with A, B, C, D, E with A representing the highest level of acceptance of risk and E representing the lowest acceptance of risk.\n",
    "\n",
    "Answer the following questions:\n",
    "\n",
    "1. For each available information in the fund and client profile, explain how you would prepare the data: encoding, normalization, outlier treatment, etc.\n",
    "2. How could you collect targets (output of the system) to train the system? How would you prepare the different sets?\n",
    "\n",
    "**Be as comprehensive as possible.** Imagine that you give your analysis to your trainee: he must be able to implement the system from it."
   ]
  },
  {
   "cell_type": "markdown",
   "id": "7cb6b792",
   "metadata": {},
   "source": [
    "---"
   ]
  },
  {
   "cell_type": "markdown",
   "id": "16f4c4b4",
   "metadata": {},
   "source": [
    "**For each available information in the fund and client profile, explain how you would prepare the data: encoding, normalization, outlier treatment, etc.**"
   ]
  },
  {
   "cell_type": "markdown",
   "id": "e1527821",
   "metadata": {},
   "source": [
    "For the investment fund here is how we could prepare the data : \n",
    "\n",
    "- **The name of the fund** : Encode the name of the fund has a categorical value with a single unique id. This depends on how we understand the name of the fund if each \"word\" represents an unique value that could be transposed to a one hot encoder ? This value is not very informative so here we will treat it has a unique id. \n",
    "- **The current value of 1 share in the fund, expressed in CHF.** : This is a numerical data and it doesn't need special treatment\n",
    "- **The proportion of stock and bonds composing the fund (2 values in percentage).** : These percentages should be normalized to a consistent scale (between 0 and 1) we can use min-max techniques.\n",
    "- **A vector of float values with the 5 last yearly returns over years from 2015 to 2019 (5 values expressed in percentage).** : Normalize the yearly returns to a consistent scale (-1 to 1). Exemple : -20% would be -0.2 value and this would create a vector of 5 number between -1 to 1. \n",
    "- **A level of risk expressed with A, B, C, D, E with A representing the highest risk and E representing the lowest risk level.** : Encode risk levels (A, B, C, D, E) into numerical values (1 to 5) using label encoding.\n",
    "- **A sectorial information such as technology, pharmaceutical, financial. There are 24 different sectors available in UBS funds.** : Encode sectors using one-hot encoding.\n",
    "\n",
    "For the client profile data here is how we could prepare the data : \n",
    "\n",
    "- **First name and last name of the client.** : The value can be ignored for the model\n",
    "- **The mother tongue of the client (mostly de, fr, it and en but other languages are present).** : We can one hot encode this value even if i would personnaly ignore it.\n",
    "- **The age of the client.** : No need treatment\n",
    "- **The number of children of the client.** : No need treatment\n",
    "- **The current wealth of the client that could be used to buy funds, expressed in CHF (total of cash available in the different accounts, not yet invested in funds).** : No need treatment\n",
    "- **The postal code of the address of the client.** : No need treatment\n",
    "- **A level of acceptance to risk expressed with A, B, C, D, E with A representing the highest level of acceptance of risk and E representing the lowest acceptance of risk.** :  Encode risk levels (A, B, C, D, E) into numerical values (1 to 5) using label encoding."
   ]
  },
  {
   "cell_type": "markdown",
   "id": "c386d8fc",
   "metadata": {},
   "source": [
    "**How could you collect targets (output of the system) to train the system?**\n",
    "\n",
    "The first step todo here is to define how would be the output of the system based on their profile ? Here we will based our output value between 0 and 1. Because the goal is to know if the fund and the client passed in input are \"matching\" correctly based on the training set.\n",
    " \n",
    "Here are some \"techniques\" we could use to find it :\n",
    "\n",
    "- **Historical Data** : Use historical data on client-fund interactions to infer preferences. For eaxmple, if a client with a similar profile historically invested in Fund A and had a positive ROI, it increase the output and could be assigned a target value close to 1.\n",
    "- **Client Feedback** : Gather feedback from clients about their satisfaction with the recommended funds. Translate this feedback into numerical suitability scores. For example, if a client is highly satisfied, it corresponds to a high suitability score (like 1).\n",
    "\n",
    "**How would you prepare the different sets?**\n",
    "\n",
    "Important : We can use specific functions to generate the train, val and test set in order to add some randomization in order to make sure that the data is representative in each set (goal avoid model biases )\n",
    "\n",
    "- Training Set:\n",
    "    - Consists of getting the fund profiles and client profiles as input features. We would have a tuple of values with one single output between 0 to 1. \n",
    "        - Example : Fund Profile Features (just an example not real values): [1, 0, 0, 0, 150, 0.8, -0.02, 0.1, -0.05, 0.08, 0.12, 2, 1, 0, 0] and Client: [0, 0, 1, 35, 1, 400000, 3]  would be equalt to an **y** of 0.85. \n",
    "        - Based on this example done before we would have a lot of tuples in our dataset that would match a certain type of output good or bad. \n",
    "    - The training set would represent 60% of the total dataset\n",
    "- Validation Set:\n",
    "    -  Similar structure to the training set.\n",
    "    - 20% of the available data.\n",
    "    - Used for tuning hyperparameters and evaluating the model's performance during training.\n",
    "- Testing Set :\n",
    "    - Similar structure to the training and validation sets.\n",
    "    - The rest of the dataset, in this case 20% because it's the rest of the dataset.\n",
    "    - Unseen data used to provide an unbiased assessment of the model's performance and to avoid overfitting the dataset. The performance would probably be less good that the Validation Set."
   ]
  },
  {
   "cell_type": "markdown",
   "id": "0ec9e135",
   "metadata": {},
   "source": []
  }
 ],
 "metadata": {
  "kernelspec": {
   "display_name": "Python 3 (ipykernel)",
   "language": "python",
   "name": "python3"
  },
  "language_info": {
   "codemirror_mode": {
    "name": "ipython",
    "version": 3
   },
   "file_extension": ".py",
   "mimetype": "text/x-python",
   "name": "python",
   "nbconvert_exporter": "python",
   "pygments_lexer": "ipython3",
   "version": "3.8.7"
  }
 },
 "nbformat": 4,
 "nbformat_minor": 5
}
