{
 "cells": [
  {
   "cell_type": "code",
   "execution_count": 267,
   "id": "f2fea121",
   "metadata": {
    "ExecuteTime": {
     "end_time": "2023-10-22T19:14:02.216328Z",
     "start_time": "2023-10-22T19:14:02.164884Z"
    }
   },
   "outputs": [],
   "source": [
    "import numpy as np\n",
    "import pandas as pd\n",
    "\n",
    "from sklearn import metrics\n",
    "from sklearn import model_selection\n",
    "from sklearn.metrics import confusion_matrix, ConfusionMatrixDisplay\n",
    "from sklearn.model_selection import train_test_split\n",
    "from sklearn.neighbors import KNeighborsClassifier\n",
    "from sklearn.preprocessing import Binarizer, LabelEncoder, MaxAbsScaler, MinMaxScaler, OneHotEncoder, \\\n",
    "    OrdinalEncoder, RobustScaler, StandardScaler"
   ]
  },
  {
   "cell_type": "markdown",
   "id": "4966e6b6",
   "metadata": {},
   "source": [
    "# Exercise 2 - Debugging - Drugs\n",
    "\n",
    "The dataset contains a set of patients, all of whom suffered from the same illness.\n",
    "During their course of treatment, each patient responded to one of 5 medications: Drug A, Drug B, Drug c, Drug x or y.\n",
    "\n",
    "This complex dataset proposes a set of challenges that you'll try to overcome. A basic ML pipeline is already in place. You have to optimize the performance of the model by applying good practices, debugging pre-processing errors, etc.\n",
    "\n",
    "**Rules**:\n",
    "- Do not use other modules than those already imported *(or do it only if your own code is not working. In this case, keep your own code in the notebook, commented, so that we know what you tried)*.\n",
    "- Explain **all** of your choices. For every task, choose the most appropriate option for this problem and describe your choice.\n",
    "- You can modify any parts of the code or replace the model by one already used in previous PWs.\n",
    "\n",
    "**Work to do**:\n",
    "- [x] Apply a type of normalization.\n",
    "- [x] Encode categorical data.\n",
    "- [x] Use all columns in the dataset (or choose the most meaningful features).\n",
    "- [x] Choose a more appropriate metric.\n",
    "- [x] Optimize hyper-parameters.\n",
    "- [x] Test the model performance correctly using a separated test set.\n",
    "- Apply **two** of those techniques:\n",
    "  - [x] Keep relative class frequencies in the train/test sets (check train_test_split docs)\n",
    "  - [ ] Show which feature(s) are the most correlated to the target.\n",
    "  - [x] Use cross-validation."
   ]
  },
  {
   "cell_type": "code",
   "execution_count": 268,
   "id": "a48ac8c5",
   "metadata": {
    "ExecuteTime": {
     "end_time": "2023-10-22T19:14:02.278845Z",
     "start_time": "2023-10-22T19:14:02.183577Z"
    }
   },
   "outputs": [
    {
     "data": {
      "text/plain": "   age sex      bp cholesterol  Na_to_K   drug\n0   23   F    HIGH        HIGH   25.355  drugY\n1   47   M     LOW        HIGH   13.093  drugC\n2   47   M     LOW        HIGH   10.114  drugC\n3   28   F  NORMAL        HIGH    7.798  drugX\n4   61   F     LOW        HIGH   18.043  drugY",
      "text/html": "<div>\n<style scoped>\n    .dataframe tbody tr th:only-of-type {\n        vertical-align: middle;\n    }\n\n    .dataframe tbody tr th {\n        vertical-align: top;\n    }\n\n    .dataframe thead th {\n        text-align: right;\n    }\n</style>\n<table border=\"1\" class=\"dataframe\">\n  <thead>\n    <tr style=\"text-align: right;\">\n      <th></th>\n      <th>age</th>\n      <th>sex</th>\n      <th>bp</th>\n      <th>cholesterol</th>\n      <th>Na_to_K</th>\n      <th>drug</th>\n    </tr>\n  </thead>\n  <tbody>\n    <tr>\n      <th>0</th>\n      <td>23</td>\n      <td>F</td>\n      <td>HIGH</td>\n      <td>HIGH</td>\n      <td>25.355</td>\n      <td>drugY</td>\n    </tr>\n    <tr>\n      <th>1</th>\n      <td>47</td>\n      <td>M</td>\n      <td>LOW</td>\n      <td>HIGH</td>\n      <td>13.093</td>\n      <td>drugC</td>\n    </tr>\n    <tr>\n      <th>2</th>\n      <td>47</td>\n      <td>M</td>\n      <td>LOW</td>\n      <td>HIGH</td>\n      <td>10.114</td>\n      <td>drugC</td>\n    </tr>\n    <tr>\n      <th>3</th>\n      <td>28</td>\n      <td>F</td>\n      <td>NORMAL</td>\n      <td>HIGH</td>\n      <td>7.798</td>\n      <td>drugX</td>\n    </tr>\n    <tr>\n      <th>4</th>\n      <td>61</td>\n      <td>F</td>\n      <td>LOW</td>\n      <td>HIGH</td>\n      <td>18.043</td>\n      <td>drugY</td>\n    </tr>\n  </tbody>\n</table>\n</div>"
     },
     "execution_count": 268,
     "metadata": {},
     "output_type": "execute_result"
    }
   ],
   "source": [
    "df = pd.read_csv(\"drug.csv\")\n",
    "df.head()"
   ]
  },
  {
   "cell_type": "code",
   "execution_count": 269,
   "outputs": [
    {
     "data": {
      "text/plain": "array(['HIGH', 'NORMAL'], dtype=object)"
     },
     "execution_count": 269,
     "metadata": {},
     "output_type": "execute_result"
    }
   ],
   "source": [
    "np.unique(df['cholesterol'])"
   ],
   "metadata": {
    "collapsed": false,
    "ExecuteTime": {
     "end_time": "2023-10-22T19:14:02.280321Z",
     "start_time": "2023-10-22T19:14:02.196109Z"
    }
   },
   "id": "e58a78e6e723c41e"
  },
  {
   "cell_type": "code",
   "execution_count": 270,
   "id": "784c9327",
   "metadata": {
    "ExecuteTime": {
     "end_time": "2023-10-22T19:14:02.281690Z",
     "start_time": "2023-10-22T19:14:02.204610Z"
    }
   },
   "outputs": [
    {
     "name": "stdout",
     "output_type": "stream",
     "text": [
      "<class 'pandas.core.frame.DataFrame'>\n",
      "RangeIndex: 200 entries, 0 to 199\n",
      "Data columns (total 6 columns):\n",
      " #   Column       Non-Null Count  Dtype  \n",
      "---  ------       --------------  -----  \n",
      " 0   age          200 non-null    int64  \n",
      " 1   sex          200 non-null    object \n",
      " 2   bp           200 non-null    object \n",
      " 3   cholesterol  200 non-null    object \n",
      " 4   Na_to_K      200 non-null    float64\n",
      " 5   drug         200 non-null    object \n",
      "dtypes: float64(1), int64(1), object(4)\n",
      "memory usage: 9.5+ KB\n"
     ]
    }
   ],
   "source": [
    "df.info()"
   ]
  },
  {
   "cell_type": "code",
   "execution_count": 271,
   "id": "97abc96a",
   "metadata": {
    "ExecuteTime": {
     "end_time": "2023-10-22T19:14:02.281795Z",
     "start_time": "2023-10-22T19:14:02.207831Z"
    }
   },
   "outputs": [],
   "source": [
    "categorical_columns = [\"sex\", \"bp\", \"cholesterol\", \"drug\"]\n",
    "\n",
    "# TODO: you will replace this by a more adapted preprocessing step\n",
    "#df = df.drop(columns=[\"sex\", \"bp\", \"cholesterol\"])"
   ]
  },
  {
   "cell_type": "code",
   "execution_count": 272,
   "id": "477b861b",
   "metadata": {
    "ExecuteTime": {
     "end_time": "2023-10-22T19:14:02.281858Z",
     "start_time": "2023-10-22T19:14:02.213690Z"
    }
   },
   "outputs": [],
   "source": [
    "#X = df.drop(columns=\"drug\")\n",
    "#y = df[\"drug\"]"
   ]
  },
  {
   "cell_type": "code",
   "execution_count": 273,
   "id": "bd623588",
   "metadata": {
    "ExecuteTime": {
     "end_time": "2023-10-22T19:14:02.351143Z",
     "start_time": "2023-10-22T19:14:02.215611Z"
    }
   },
   "outputs": [],
   "source": [
    "#X_train, X_test, y_train, y_test = train_test_split(X, y, test_size=0.2, random_state=42)"
   ]
  },
  {
   "cell_type": "code",
   "execution_count": 274,
   "id": "b850aac8",
   "metadata": {
    "ExecuteTime": {
     "end_time": "2023-10-22T19:14:02.352248Z",
     "start_time": "2023-10-22T19:14:02.223808Z"
    }
   },
   "outputs": [],
   "source": [
    "# TODO: a preprocessing step is likely missing here...\n",
    "# TODO: Apply a type of normalization\n",
    "# Using StandardScaler to normalize 'age' and 'Na_to_K'\n",
    "# StandardScaler is a good choice because it's robust to outliers and it's a good practice to normalize data when using KNN\n",
    "scaler = StandardScaler()\n",
    "df[['age', 'Na_to_K']] = scaler.fit_transform(df[['age', 'Na_to_K']]) # fit_transform() returns a numpy array, so we have to convert it back to a dataframe\n",
    "# TODO: Encode categorical data\n",
    "# Using LabelEncoder to encode 'bp'\n",
    "# LabelEncoder is a good choice because it's a simple way to encode categorical data as integers (LOW, NORMAL, HIGH -> 0, 1, 2)\n",
    "label_encoder = LabelEncoder()\n",
    "df['bp'] = label_encoder.fit_transform(df['bp'])\n",
    "# Using OneHotEncoder to encode 'sex' and 'cholesterol'\n",
    "# OneHotEncoder is a good choice because it's a simple way to convert categorical data into a numerical format by creating binary columns for each category/label\n",
    "encoder = OneHotEncoder(drop=\"first\")  # Avoiding multicollinearity by dropping one category each\n",
    "encoded_features = pd.DataFrame(encoder.fit_transform(df[['sex', 'cholesterol']]).toarray(),\n",
    "                                columns=encoder.get_feature_names_out(['sex', 'cholesterol']))\n",
    "df = pd.concat([df.drop(columns=['sex', 'cholesterol']), encoded_features], axis=1)"
   ]
  },
  {
   "cell_type": "code",
   "execution_count": 275,
   "outputs": [
    {
     "data": {
      "text/plain": "          age  bp   Na_to_K   drug  sex_M  cholesterol_NORMAL\n0   -1.291591   0  1.286522  drugY    0.0                 0.0\n1    0.162699   1 -0.415145  drugC    1.0                 0.0\n2    0.162699   1 -0.828558  drugC    1.0                 0.0\n3   -0.988614   2 -1.149963  drugX    0.0                 0.0\n4    1.011034   1  0.271794  drugY    0.0                 0.0\n..        ...  ..       ...    ...    ...                 ...\n195  0.708057   1 -0.626917  drugC    0.0                 0.0\n196 -1.715759   1 -0.565995  drugC    1.0                 0.0\n197  0.465676   2 -0.859089  drugX    1.0                 0.0\n198 -1.291591   2 -0.286500  drugX    1.0                 1.0\n199 -0.261469   1 -0.657170  drugX    0.0                 1.0\n\n[200 rows x 6 columns]",
      "text/html": "<div>\n<style scoped>\n    .dataframe tbody tr th:only-of-type {\n        vertical-align: middle;\n    }\n\n    .dataframe tbody tr th {\n        vertical-align: top;\n    }\n\n    .dataframe thead th {\n        text-align: right;\n    }\n</style>\n<table border=\"1\" class=\"dataframe\">\n  <thead>\n    <tr style=\"text-align: right;\">\n      <th></th>\n      <th>age</th>\n      <th>bp</th>\n      <th>Na_to_K</th>\n      <th>drug</th>\n      <th>sex_M</th>\n      <th>cholesterol_NORMAL</th>\n    </tr>\n  </thead>\n  <tbody>\n    <tr>\n      <th>0</th>\n      <td>-1.291591</td>\n      <td>0</td>\n      <td>1.286522</td>\n      <td>drugY</td>\n      <td>0.0</td>\n      <td>0.0</td>\n    </tr>\n    <tr>\n      <th>1</th>\n      <td>0.162699</td>\n      <td>1</td>\n      <td>-0.415145</td>\n      <td>drugC</td>\n      <td>1.0</td>\n      <td>0.0</td>\n    </tr>\n    <tr>\n      <th>2</th>\n      <td>0.162699</td>\n      <td>1</td>\n      <td>-0.828558</td>\n      <td>drugC</td>\n      <td>1.0</td>\n      <td>0.0</td>\n    </tr>\n    <tr>\n      <th>3</th>\n      <td>-0.988614</td>\n      <td>2</td>\n      <td>-1.149963</td>\n      <td>drugX</td>\n      <td>0.0</td>\n      <td>0.0</td>\n    </tr>\n    <tr>\n      <th>4</th>\n      <td>1.011034</td>\n      <td>1</td>\n      <td>0.271794</td>\n      <td>drugY</td>\n      <td>0.0</td>\n      <td>0.0</td>\n    </tr>\n    <tr>\n      <th>...</th>\n      <td>...</td>\n      <td>...</td>\n      <td>...</td>\n      <td>...</td>\n      <td>...</td>\n      <td>...</td>\n    </tr>\n    <tr>\n      <th>195</th>\n      <td>0.708057</td>\n      <td>1</td>\n      <td>-0.626917</td>\n      <td>drugC</td>\n      <td>0.0</td>\n      <td>0.0</td>\n    </tr>\n    <tr>\n      <th>196</th>\n      <td>-1.715759</td>\n      <td>1</td>\n      <td>-0.565995</td>\n      <td>drugC</td>\n      <td>1.0</td>\n      <td>0.0</td>\n    </tr>\n    <tr>\n      <th>197</th>\n      <td>0.465676</td>\n      <td>2</td>\n      <td>-0.859089</td>\n      <td>drugX</td>\n      <td>1.0</td>\n      <td>0.0</td>\n    </tr>\n    <tr>\n      <th>198</th>\n      <td>-1.291591</td>\n      <td>2</td>\n      <td>-0.286500</td>\n      <td>drugX</td>\n      <td>1.0</td>\n      <td>1.0</td>\n    </tr>\n    <tr>\n      <th>199</th>\n      <td>-0.261469</td>\n      <td>1</td>\n      <td>-0.657170</td>\n      <td>drugX</td>\n      <td>0.0</td>\n      <td>1.0</td>\n    </tr>\n  </tbody>\n</table>\n<p>200 rows × 6 columns</p>\n</div>"
     },
     "execution_count": 275,
     "metadata": {},
     "output_type": "execute_result"
    }
   ],
   "source": [
    "df"
   ],
   "metadata": {
    "collapsed": false,
    "ExecuteTime": {
     "end_time": "2023-10-22T19:14:02.353116Z",
     "start_time": "2023-10-22T19:14:02.232796Z"
    }
   },
   "id": "db8c7931d6f72800"
  },
  {
   "cell_type": "code",
   "execution_count": 276,
   "outputs": [],
   "source": [
    "X = df.drop(columns=\"drug\")\n",
    "y = df[\"drug\"]"
   ],
   "metadata": {
    "collapsed": false,
    "ExecuteTime": {
     "end_time": "2023-10-22T19:14:02.353165Z",
     "start_time": "2023-10-22T19:14:02.237087Z"
    }
   },
   "id": "ffcbaa9e1a61126b"
  },
  {
   "cell_type": "code",
   "execution_count": 277,
   "outputs": [
    {
     "data": {
      "text/plain": "          age  bp   Na_to_K  sex_M  cholesterol_NORMAL\n0   -1.291591   0  1.286522    0.0                 0.0\n1    0.162699   1 -0.415145    1.0                 0.0\n2    0.162699   1 -0.828558    1.0                 0.0\n3   -0.988614   2 -1.149963    0.0                 0.0\n4    1.011034   1  0.271794    0.0                 0.0\n..        ...  ..       ...    ...                 ...\n195  0.708057   1 -0.626917    0.0                 0.0\n196 -1.715759   1 -0.565995    1.0                 0.0\n197  0.465676   2 -0.859089    1.0                 0.0\n198 -1.291591   2 -0.286500    1.0                 1.0\n199 -0.261469   1 -0.657170    0.0                 1.0\n\n[200 rows x 5 columns]",
      "text/html": "<div>\n<style scoped>\n    .dataframe tbody tr th:only-of-type {\n        vertical-align: middle;\n    }\n\n    .dataframe tbody tr th {\n        vertical-align: top;\n    }\n\n    .dataframe thead th {\n        text-align: right;\n    }\n</style>\n<table border=\"1\" class=\"dataframe\">\n  <thead>\n    <tr style=\"text-align: right;\">\n      <th></th>\n      <th>age</th>\n      <th>bp</th>\n      <th>Na_to_K</th>\n      <th>sex_M</th>\n      <th>cholesterol_NORMAL</th>\n    </tr>\n  </thead>\n  <tbody>\n    <tr>\n      <th>0</th>\n      <td>-1.291591</td>\n      <td>0</td>\n      <td>1.286522</td>\n      <td>0.0</td>\n      <td>0.0</td>\n    </tr>\n    <tr>\n      <th>1</th>\n      <td>0.162699</td>\n      <td>1</td>\n      <td>-0.415145</td>\n      <td>1.0</td>\n      <td>0.0</td>\n    </tr>\n    <tr>\n      <th>2</th>\n      <td>0.162699</td>\n      <td>1</td>\n      <td>-0.828558</td>\n      <td>1.0</td>\n      <td>0.0</td>\n    </tr>\n    <tr>\n      <th>3</th>\n      <td>-0.988614</td>\n      <td>2</td>\n      <td>-1.149963</td>\n      <td>0.0</td>\n      <td>0.0</td>\n    </tr>\n    <tr>\n      <th>4</th>\n      <td>1.011034</td>\n      <td>1</td>\n      <td>0.271794</td>\n      <td>0.0</td>\n      <td>0.0</td>\n    </tr>\n    <tr>\n      <th>...</th>\n      <td>...</td>\n      <td>...</td>\n      <td>...</td>\n      <td>...</td>\n      <td>...</td>\n    </tr>\n    <tr>\n      <th>195</th>\n      <td>0.708057</td>\n      <td>1</td>\n      <td>-0.626917</td>\n      <td>0.0</td>\n      <td>0.0</td>\n    </tr>\n    <tr>\n      <th>196</th>\n      <td>-1.715759</td>\n      <td>1</td>\n      <td>-0.565995</td>\n      <td>1.0</td>\n      <td>0.0</td>\n    </tr>\n    <tr>\n      <th>197</th>\n      <td>0.465676</td>\n      <td>2</td>\n      <td>-0.859089</td>\n      <td>1.0</td>\n      <td>0.0</td>\n    </tr>\n    <tr>\n      <th>198</th>\n      <td>-1.291591</td>\n      <td>2</td>\n      <td>-0.286500</td>\n      <td>1.0</td>\n      <td>1.0</td>\n    </tr>\n    <tr>\n      <th>199</th>\n      <td>-0.261469</td>\n      <td>1</td>\n      <td>-0.657170</td>\n      <td>0.0</td>\n      <td>1.0</td>\n    </tr>\n  </tbody>\n</table>\n<p>200 rows × 5 columns</p>\n</div>"
     },
     "execution_count": 277,
     "metadata": {},
     "output_type": "execute_result"
    }
   ],
   "source": [
    "X"
   ],
   "metadata": {
    "collapsed": false,
    "ExecuteTime": {
     "end_time": "2023-10-22T19:14:02.353595Z",
     "start_time": "2023-10-22T19:14:02.244127Z"
    }
   },
   "id": "5c530d76ca1cc79c"
  },
  {
   "cell_type": "code",
   "execution_count": 278,
   "outputs": [],
   "source": [
    "# Splitting the dataset and ensuring relative class frequencies using the 'stratify' parameter\n",
    "X_train, X_test, y_train, y_test = train_test_split(X, y, test_size=0.2, random_state=42, stratify=y)"
   ],
   "metadata": {
    "collapsed": false,
    "ExecuteTime": {
     "end_time": "2023-10-22T19:14:02.353659Z",
     "start_time": "2023-10-22T19:14:02.249039Z"
    }
   },
   "id": "f0eea720b8a925d6"
  },
  {
   "cell_type": "code",
   "execution_count": 279,
   "id": "fb6f6f11",
   "metadata": {
    "ExecuteTime": {
     "end_time": "2023-10-22T19:14:02.353773Z",
     "start_time": "2023-10-22T19:14:02.254520Z"
    }
   },
   "outputs": [],
   "source": [
    "def predict(estimator, X, y, show_cm=True):\n",
    "    # predict (change knn by estimator)\n",
    "    y_pred = estimator.predict(X)\n",
    "    \n",
    "    # show confusion matrix\n",
    "    if show_cm:\n",
    "        cm = confusion_matrix(y, y_pred)\n",
    "        disp=ConfusionMatrixDisplay(confusion_matrix=cm, display_labels=estimator.classes_)\n",
    "        disp.plot()\n",
    "    \n",
    "    # check metric (this one is probably not the best choice...)\n",
    "    metric = metrics.accuracy_score(y, y_pred)\n",
    "    f1 = metrics.f1_score(y, y_pred, average='weighted')\n",
    "    #print(f\"Accuracy: {metric}\")\n",
    "    #print(f\"Recall: {f1}\")\n",
    "    return metric, f1\n",
    "    # f1 metric is better than others because it takes into account both precision and recall"
   ]
  },
  {
   "cell_type": "markdown",
   "source": [
    "# Find the best hyper-parameters (n_neighbours) and print the test set best value"
   ],
   "metadata": {
    "collapsed": false
   },
   "id": "e18e7dbd269ca8e"
  },
  {
   "cell_type": "code",
   "execution_count": 280,
   "outputs": [
    {
     "name": "stdout",
     "output_type": "stream",
     "text": [
      "The best knn paramters is n = 5 and the best accuracy achieved is 0.9\n",
      "The best accuracy for the Test Set is 0.9 and the f1_score is 0.90254329004329\n"
     ]
    },
    {
     "data": {
      "text/plain": "<Figure size 640x480 with 2 Axes>",
      "image/png": "[encoded data removed]"
     },
     "metadata": {},
     "output_type": "display_data"
    }
   ],
   "source": [
    "best_neigh_simple = None \n",
    "best_accur_simple = 0.0\n",
    "best_f1_score = 0.0\n",
    "for i in range(30): \n",
    "    knn = KNeighborsClassifier(n_neighbors=i+1)\n",
    "    knn.fit(X_train, y_train)\n",
    "    precision, f1_score = predict(knn, X_test, y_test, show_cm=False)\n",
    "    #print(precision, i+1)\n",
    "    if precision > best_accur_simple: \n",
    "        best_neigh_simple = i+1\n",
    "        best_accur_simple = precision\n",
    "        #print(f\"New best accuracy : {best_accur_simple} + {best_neigh_simple}\")\n",
    "        \n",
    "print(f\"The best knn paramters is n = {best_neigh_simple} and the best accuracy achieved is {best_accur_simple}\")\n",
    "\n",
    "knn = KNeighborsClassifier(n_neighbors=best_neigh_simple) \n",
    "knn.fit(X_train,y_train) \n",
    "precision_test, f1_score_test = predict(knn, X_test, y_test) \n",
    "print(f\"The best accuracy for the Test Set is {precision_test} and the f1_score is {f1_score_test}\")"
   ],
   "metadata": {
    "collapsed": false,
    "ExecuteTime": {
     "end_time": "2023-10-22T19:14:02.448084Z",
     "start_time": "2023-10-22T19:14:02.259685Z"
    }
   },
   "id": "92fef7ff38cd4122"
  },
  {
   "cell_type": "code",
   "execution_count": 281,
   "outputs": [
    {
     "data": {
      "text/plain": "(0.9, 0.8991666666666667)"
     },
     "execution_count": 281,
     "metadata": {},
     "output_type": "execute_result"
    },
    {
     "data": {
      "text/plain": "<Figure size 640x480 with 2 Axes>",
      "image/png": "[encoded data removed]"
     },
     "metadata": {},
     "output_type": "display_data"
    }
   ],
   "source": [
    "# Evaluating the model on the test set\n",
    "knn = KNeighborsClassifier(n_neighbors=16)\n",
    "knn.fit(X_train, y_train)\n",
    "predict(knn, X_test, y_test)"
   ],
   "metadata": {
    "collapsed": false,
    "ExecuteTime": {
     "end_time": "2023-10-22T19:14:02.518312Z",
     "start_time": "2023-10-22T19:14:02.410715Z"
    }
   },
   "id": "c312343b6d728e1a"
  },
  {
   "cell_type": "markdown",
   "source": [
    "# Do the cross validation with the function cross_val_score (find the best k + print the test set with that result)"
   ],
   "metadata": {
    "collapsed": false
   },
   "id": "a0a26fc7c08427af"
  },
  {
   "cell_type": "code",
   "execution_count": 282,
   "id": "75bd0b70",
   "metadata": {
    "ExecuteTime": {
     "end_time": "2023-10-22T19:14:03.046584Z",
     "start_time": "2023-10-22T19:14:02.499040Z"
    }
   },
   "outputs": [
    {
     "name": "stdout",
     "output_type": "stream",
     "text": [
      "New best accuracy : 0.89375 + 1\n",
      "The best knn paramters is n = 1 and the best accuracy achieved with cross_validation is 0.89375\n"
     ]
    },
    {
     "data": {
      "text/plain": "(0.85, 0.8541625041625043)"
     },
     "execution_count": 282,
     "metadata": {},
     "output_type": "execute_result"
    },
    {
     "data": {
      "text/plain": "<Figure size 640x480 with 2 Axes>",
      "image/png": "[encoded data removed]"
     },
     "metadata": {},
     "output_type": "display_data"
    }
   ],
   "source": [
    "# TODO: any of the 3 proposed task...\n",
    "# source: https://www.ritchieng.com/machine-learning-cross-validation/\n",
    "\n",
    "best_neigh = None \n",
    "best_accur = 0.0\n",
    "for i in range(50): # no need to go further than 50 neighbors because the accuracy is already decreasing after 30 neighbors\n",
    "    knn = KNeighborsClassifier(n_neighbors=i+1) # '0' as neighbors is not allowed\n",
    "    cross = model_selection.cross_val_score(knn, X_train, y_train) # call the function that does the cross validation (it does the fit() and accuracy of the 5 folds by itself)\n",
    "    if np.mean(cross) > best_accur: # keep the best neighbors and accuracy (mean of the 5 folds)\n",
    "        best_neigh = i+1\n",
    "        best_accur = np.mean(cross)\n",
    "        print(f\"New best accuracy : {best_accur} + {best_neigh}\")\n",
    "        \n",
    "print(f\"The best knn paramters is n = {best_neigh} and the best accuracy achieved with cross_validation is {best_accur}\")\n",
    "\n",
    "knn = KNeighborsClassifier(n_neighbors=best_neigh) # Keep the best neighbors found before to make our prediction on the test set\n",
    "knn.fit(X_train,y_train) # On fit\n",
    "predictions = predict(knn, X_test, y_test) # predict on the test set\n",
    "predictions # print the precision and f1_score\n"
   ]
  }
 ],
 "metadata": {
  "kernelspec": {
   "display_name": "Python 3 (ipykernel)",
   "language": "python",
   "name": "python3"
  },
  "language_info": {
   "codemirror_mode": {
    "name": "ipython",
    "version": 3
   },
   "file_extension": ".py",
   "mimetype": "text/x-python",
   "name": "python",
   "nbconvert_exporter": "python",
   "pygments_lexer": "ipython3",
   "version": "3.8.7"
  }
 },
 "nbformat": 4,
 "nbformat_minor": 5
}
