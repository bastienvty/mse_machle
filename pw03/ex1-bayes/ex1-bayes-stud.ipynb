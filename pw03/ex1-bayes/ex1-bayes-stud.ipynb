{
 "cells": [
  {
   "cell_type": "markdown",
   "metadata": {
    "collapsed": true
   },
   "source": [
    "## Exercise 1 - Bayes classification system"
   ]
  },
  {
   "cell_type": "code",
   "execution_count": 1,
   "metadata": {
    "ExecuteTime": {
     "end_time": "2023-10-07T16:29:55.215164Z",
     "start_time": "2023-10-07T16:29:55.193394Z"
    }
   },
   "outputs": [],
   "source": [
    "# Import some useful libraries\n",
    "\n",
    "import math\n",
    "\n",
    "import matplotlib.pyplot as plt\n",
    "import numpy as np\n",
    "import pandas as pd\n",
    "from sklearn.model_selection import train_test_split\n",
    "from sklearn.preprocessing import OrdinalEncoder, StandardScaler"
   ]
  },
  {
   "cell_type": "markdown",
   "metadata": {},
   "source": [
    "## 1a. Getting started with Bayes"
   ]
  },
  {
   "cell_type": "markdown",
   "metadata": {},
   "source": [
    "a) Read the training data from file ex1-data-train.csv. The first two columns are x1 and x2. The last column holds the class label y."
   ]
  },
  {
   "cell_type": "code",
   "execution_count": 2,
   "metadata": {
    "ExecuteTime": {
     "end_time": "2023-10-07T16:29:55.230950Z",
     "start_time": "2023-10-07T16:29:55.201282Z"
    }
   },
   "outputs": [],
   "source": [
    "def read_data(file):\n",
    "    dataset = pd.read_csv(file, names=['x1','x2','y'])\n",
    "    print(dataset.head())\n",
    "    return dataset[[\"x1\", \"x2\"]], dataset[\"y\"].values"
   ]
  },
  {
   "cell_type": "code",
   "execution_count": 3,
   "metadata": {
    "ExecuteTime": {
     "end_time": "2023-10-07T16:29:55.252735Z",
     "start_time": "2023-10-07T16:29:55.205766Z"
    }
   },
   "outputs": [
    {
     "name": "stdout",
     "output_type": "stream",
     "text": [
      "          x1         x2  y\n",
      "0  34.623660  78.024693  0\n",
      "1  30.286711  43.894998  0\n",
      "2  35.847409  72.902198  0\n",
      "3  60.182599  86.308552  1\n",
      "4  79.032736  75.344376  1\n"
     ]
    }
   ],
   "source": [
    "X_train, y_train = read_data(\"ex1-data-train.csv\")"
   ]
  },
  {
   "cell_type": "code",
   "execution_count": 4,
   "metadata": {
    "ExecuteTime": {
     "end_time": "2023-10-07T16:29:55.253893Z",
     "start_time": "2023-10-07T16:29:55.219287Z"
    }
   },
   "outputs": [],
   "source": [
    "# Prepare a function to compute accuracy\n",
    "def accuracy_score(y_true, y_pred):\n",
    "    return (y_true == y_pred).sum() / y_true.size"
   ]
  },
  {
   "cell_type": "markdown",
   "metadata": {},
   "source": [
    "b) Compute the priors of both classes P(C0) and P(C1)"
   ]
  },
  {
   "cell_type": "code",
   "execution_count": 5,
   "metadata": {
    "ExecuteTime": {
     "end_time": "2023-10-07T16:29:55.254122Z",
     "start_time": "2023-10-07T16:29:55.224426Z"
    }
   },
   "outputs": [
    {
     "name": "stdout",
     "output_type": "stream",
     "text": [
      "Prior of class 0 : 0.4\n",
      "Prior of class 1 : 0.6\n"
     ]
    }
   ],
   "source": [
    "# TODO: Compute the priors\n",
    "P_c0 = sum(y_train == 0) / len(y_train)\n",
    "P_c1 = sum(y_train == 1) / len(y_train)\n",
    "\n",
    "print(f\"Prior of class 0 : {P_c0}\")\n",
    "print(f\"Prior of class 1 : {P_c1}\")"
   ]
  },
  {
   "cell_type": "markdown",
   "metadata": {},
   "source": [
    "c) Compute histograms of x1 and x2 for each class (total of 4 histograms). Plot these histograms. Advice : use the numpy `histogram(a, bins=\"auto\")` function."
   ]
  },
  {
   "cell_type": "code",
   "execution_count": 6,
   "metadata": {
    "ExecuteTime": {
     "end_time": "2023-10-07T16:29:55.472769Z",
     "start_time": "2023-10-07T16:29:55.229223Z"
    }
   },
   "outputs": [
    {
     "data": {
      "text/plain": "<Figure size 1152x432 with 2 Axes>",
      "image/png": "[encoded data removed]"
     },
     "metadata": {
      "needs_background": "light"
     },
     "output_type": "display_data"
    }
   ],
   "source": [
    "# TODO: Compute histograms\n",
    "\n",
    "# Histogram and bins of feature 1 of class 0\n",
    "x1_class_0 = X_train[y_train == 0]['x1']\n",
    "x1_class_0_hist, x1_class_0_bins = np.histogram(x1_class_0, bins=\"auto\")\n",
    "\n",
    "# Histogram and bins of feature 1 of class 1\n",
    "x1_class_1 = X_train[y_train == 1]['x1']\n",
    "x1_class_1_hist, x1_class_1_bins = np.histogram(x1_class_1, bins=\"auto\")\n",
    "\n",
    "# Histogram and bins of feature 2 of class 0\n",
    "x2_class_0 = X_train[y_train == 0]['x2']\n",
    "x2_class_0_hist, x2_class_0_bins = np.histogram(x2_class_0, bins=\"auto\")\n",
    "\n",
    "# Histogram and bins of feature 2 of class 1\n",
    "x2_class_1 = X_train[y_train == 1]['x2']\n",
    "x2_class_1_hist, x2_class_1_bins = np.histogram(x2_class_1, bins=\"auto\")\n",
    "\n",
    "# TODO: plot histograms\n",
    "plt.figure(figsize=(16,6))\n",
    "\n",
    "plt.subplot(1, 2, 1)\n",
    "plt.hist(x1_class_0, bins=x1_class_0_bins, color='blue', alpha=0.5, label='Class 0')\n",
    "plt.hist(x1_class_1, bins=x1_class_1_bins, color='red', alpha=0.5, label='Class 1')\n",
    "plt.ylabel('Frequency')\n",
    "plt.xlabel('Exam 1 score')\n",
    "plt.title('Histogram of x1')\n",
    "plt.legend()\n",
    "\n",
    "plt.subplot(1, 2, 2)\n",
    "plt.hist(x2_class_0, bins=x2_class_0_bins, color='blue', alpha=0.5, label='Class 0')\n",
    "plt.hist(x2_class_1, bins=x2_class_1_bins, color='red', alpha=0.5, label='Class 1')\n",
    "plt.xlabel('Exam 2 score')\n",
    "plt.ylabel('Frequency')\n",
    "plt.title('Histogram of x2')\n",
    "plt.legend()\n",
    "\n",
    "plt.show()"
   ]
  },
  {
   "cell_type": "markdown",
   "metadata": {},
   "source": [
    "d) Use the histograms to compute the likelihoods p(x1|C0), p(x1|C1), p(x2|C0) and p(x2|C1). For this define a function `likelihood_hist(x, hist_values, edge_values)` that returns the likelihood of x for a given histogram (defined by its values and bin edges as returned by the numpy `histogram()` function)."
   ]
  },
  {
   "cell_type": "code",
   "execution_count": 7,
   "metadata": {
    "ExecuteTime": {
     "end_time": "2023-10-07T16:29:55.478991Z",
     "start_time": "2023-10-07T16:29:55.475045Z"
    }
   },
   "outputs": [],
   "source": [
    "def likelihood_hist(x: float, hist_values: np.ndarray, bin_edges: np.ndarray) -> float:\n",
    "    # TODO: compute likelihoods from histograms outputs\n",
    "    bin_index = np.digitize(x, bin_edges)\n",
    "\n",
    "    if bin_index < 1 or bin_index >= len(hist_values):\n",
    "        return 0.0  # x is outside the histogram range\n",
    "\n",
    "    bin_count = hist_values[bin_index-1]\n",
    "    total_count = np.sum(hist_values)\n",
    "\n",
    "    return bin_count / total_count"
   ]
  },
  {
   "cell_type": "markdown",
   "metadata": {},
   "source": [
    "e) Implement the classification decision according to Bayes rule and compute the overall accuracy of the system on the test set ex1-data-test.csv. :\n",
    "- using only feature x1\n",
    "- using only feature x2\n",
    "- using x1 and x2 making the naive Bayes hypothesis of feature independence, i.e. p(X|Ck) = p(x1|Ck) · p(x2|Ck)"
   ]
  },
  {
   "cell_type": "code",
   "execution_count": 8,
   "metadata": {
    "ExecuteTime": {
     "end_time": "2023-10-07T16:29:55.489943Z",
     "start_time": "2023-10-07T16:29:55.478858Z"
    }
   },
   "outputs": [
    {
     "name": "stdout",
     "output_type": "stream",
     "text": [
      "          x1         x2  y\n",
      "0  39.196334  78.530294  0\n",
      "1  40.448499  86.839470  1\n",
      "2  65.571920  44.303497  0\n",
      "3  79.648113  70.806564  1\n",
      "4  66.260221  41.672703  0\n"
     ]
    }
   ],
   "source": [
    "X_test, y_test = read_data(\"ex1-data-test.csv\")"
   ]
  },
  {
   "cell_type": "code",
   "execution_count": 9,
   "metadata": {
    "ExecuteTime": {
     "end_time": "2023-10-07T16:29:55.524266Z",
     "start_time": "2023-10-07T16:29:55.498056Z"
    }
   },
   "outputs": [
    {
     "name": "stdout",
     "output_type": "stream",
     "text": [
      "Accuracies using training data histograms : \n",
      "\tAccuracy using only x1 : 0.66\n",
      "\tAccuracy using only x2 : 0.71\n",
      "\tAccuracy using x1, x2 : 0.83\n"
     ]
    }
   ],
   "source": [
    "# TODO: predict on test set in the 3 cases described above\n",
    "\n",
    "y_pred_only_x1 = []\n",
    "y_pred_only_x2 = []\n",
    "y_pred_all = []\n",
    "\n",
    "for index, sample in X_test.iterrows():\n",
    "    # Using only feature x1 :\n",
    "    posterior_class_0_only_x1 = P_c0 * likelihood_hist(sample[0], x1_class_0_hist, x1_class_0_bins)\n",
    "    posterior_class_1_only_x1 = P_c1 * likelihood_hist(sample[0], x1_class_1_hist, x1_class_1_bins)\n",
    "\n",
    "    if posterior_class_1_only_x1 > posterior_class_0_only_x1:\n",
    "        y_pred_only_x1.append(1)\n",
    "    else:\n",
    "        y_pred_only_x1.append(0)\n",
    "\n",
    "    # Using only feature x2 :\n",
    "    posterior_class_0_only_x2 = P_c0 * likelihood_hist(sample[1], x2_class_0_hist, x2_class_0_bins)\n",
    "    posterior_class_1_only_x2 = P_c1 * likelihood_hist(sample[1], x2_class_1_hist, x2_class_1_bins)\n",
    "    if posterior_class_1_only_x2 > posterior_class_0_only_x2:\n",
    "        y_pred_only_x2.append(1)\n",
    "    else:\n",
    "        y_pred_only_x2.append(0)\n",
    "\n",
    "    # Using both x1 and x2 with the hypothesis of feature independence\n",
    "    posterior_class_0_all = (P_c0 * likelihood_hist(sample[1], x2_class_0_hist, x2_class_0_bins)) * (P_c0 * likelihood_hist(sample[0], x1_class_0_hist, x1_class_0_bins))\n",
    "\n",
    "    posterior_class_1_all = (P_c1 * likelihood_hist(sample[1], x2_class_1_hist, x2_class_1_bins)) * (P_c1 * likelihood_hist(sample[0], x1_class_1_hist, x1_class_1_bins))\n",
    "\n",
    "    if posterior_class_1_all > posterior_class_0_all:\n",
    "        y_pred_all.append(1)\n",
    "    else:\n",
    "        y_pred_all.append(0)\n",
    "\n",
    "print(\"Accuracies using training data histograms : \")\n",
    "print(f\"\\tAccuracy using only x1 : {accuracy_score(y_test, y_pred_only_x1)}\")\n",
    "print(f\"\\tAccuracy using only x2 : {accuracy_score(y_test, y_pred_only_x2)}\")\n",
    "print(f\"\\tAccuracy using x1, x2 : {accuracy_score(y_test, y_pred_all)}\")"
   ]
  },
  {
   "cell_type": "markdown",
   "metadata": {},
   "source": [
    "Which system is the best ?\n",
    "-> We can see that the system using both x1, x2 (exam 1 and exam 2) features performs better that using only x1 or x2."
   ]
  },
  {
   "cell_type": "markdown",
   "metadata": {},
   "source": [
    "## 1b. Bayes - Univariate Gaussian distribution"
   ]
  },
  {
   "cell_type": "markdown",
   "metadata": {},
   "source": [
    "Do the same as in a) but this time using univariate Gaussian distribution to model the likelihoods p(x1|C0), p(x1|C1), p(x2|C0) and p(x2|C1). You may use the numpy functions `mean()` and `var()` to compute the mean μ and variance σ2 of the distribution. To model the likelihood of both features, you may also do the naive Bayes hypothesis of feature independence, i.e. p(X|Ck) = p(x1|Ck) · p(x2|Ck).\n"
   ]
  },
  {
   "cell_type": "code",
   "execution_count": 10,
   "metadata": {
    "ExecuteTime": {
     "end_time": "2023-10-07T16:29:55.524602Z",
     "start_time": "2023-10-07T16:29:55.510940Z"
    }
   },
   "outputs": [],
   "source": [
    "def likelihood_univariate_gaussian(x: float, mean: float, var: float) -> float:\n",
    "    # TODO: compute likelihoods from histograms outputs\n",
    "\n",
    "    # Compute exponent of a specific class using its mean and variance\n",
    "    exponent = -((x - mean) ** 2) / (2 * var)\n",
    "    # Compute full likelihood using exponent, mean and variance\n",
    "    likelihood = (1 / (np.sqrt(2 * np.pi * var))) * np.exp(exponent)\n",
    "\n",
    "    return likelihood"
   ]
  },
  {
   "cell_type": "code",
   "execution_count": 11,
   "metadata": {
    "ExecuteTime": {
     "end_time": "2023-10-07T16:29:55.529783Z",
     "start_time": "2023-10-07T16:29:55.524878Z"
    }
   },
   "outputs": [],
   "source": [
    "# TODO: Compute mean and variance for each class and each features (8 values)\n",
    "\n",
    "# Mean & variance of feature 1 of class 0\n",
    "x1_class_0_mean = np.mean(x1_class_0)\n",
    "x1_class_0_variance = np.var(x1_class_0)\n",
    "\n",
    "# Mean & variance of feature 1 of class 1\n",
    "x1_class_1_mean = np.mean(x1_class_1)\n",
    "x1_class_1_variance = np.var(x1_class_1)\n",
    "\n",
    "# Mean & variance of feature 2 of class 0\n",
    "x2_class_0_mean = np.mean(x2_class_0)\n",
    "x2_class_0_variance = np.var(x2_class_0)\n",
    "\n",
    "# Mean & variance of feature 2 of class 1\n",
    "x2_class_1_mean = np.mean(x2_class_1)\n",
    "x2_class_1_variance = np.var(x2_class_1)"
   ]
  },
  {
   "cell_type": "code",
   "execution_count": 12,
   "metadata": {
    "ExecuteTime": {
     "end_time": "2023-10-07T16:29:55.536770Z",
     "start_time": "2023-10-07T16:29:55.533716Z"
    }
   },
   "outputs": [
    {
     "name": "stdout",
     "output_type": "stream",
     "text": [
      "Accuracies using Univariate Gaussian Distribution : \n",
      "\tAccuracy using only x1 : 0.71\n",
      "\tAccuracy using only x2 : 0.72\n",
      "\tAccuracy using x1, x2 : 0.92\n"
     ]
    }
   ],
   "source": [
    "# TODO: predict on test set in the 3 cases\n",
    "\n",
    "y_pred_only_x1 = []\n",
    "y_pred_only_x2 = []\n",
    "y_pred_all = []\n",
    "\n",
    "for index, sample in X_test.iterrows():\n",
    "    # Using only feature x1 :\n",
    "    posterior_class_0_only_x1 = P_c0 * likelihood_univariate_gaussian(sample[0], x1_class_0_mean, x1_class_0_variance)\n",
    "    posterior_class_1_only_x1 = P_c1 * likelihood_univariate_gaussian(sample[0], x1_class_1_mean, x1_class_1_variance)\n",
    "\n",
    "    if posterior_class_1_only_x1 > posterior_class_0_only_x1:\n",
    "        y_pred_only_x1.append(1)\n",
    "    else:\n",
    "        y_pred_only_x1.append(0)\n",
    "\n",
    "    # Using only feature x2 :\n",
    "    posterior_class_0_only_x2 = P_c0 * likelihood_univariate_gaussian(sample[1], x2_class_0_mean, x2_class_0_variance)\n",
    "    posterior_class_1_only_x2 = P_c1 * likelihood_univariate_gaussian(sample[1], x2_class_1_mean, x2_class_1_variance)\n",
    "    if posterior_class_1_only_x2 > posterior_class_0_only_x2:\n",
    "        y_pred_only_x2.append(1)\n",
    "    else:\n",
    "        y_pred_only_x2.append(0)\n",
    "\n",
    "    # Using both x1 and x2 with the hypothesis of feature independence\n",
    "    posterior_class_0_all = (P_c0 * likelihood_univariate_gaussian(sample[1], x2_class_0_mean, x2_class_0_variance)) * (P_c0 * likelihood_univariate_gaussian(sample[0], x1_class_0_mean, x1_class_0_variance))\n",
    "\n",
    "    posterior_class_1_all = (P_c1 * likelihood_univariate_gaussian(sample[1], x2_class_1_mean, x2_class_1_variance)) * (P_c1 * likelihood_univariate_gaussian(sample[0], x1_class_1_mean, x1_class_1_variance))\n",
    "\n",
    "    if posterior_class_1_all > posterior_class_0_all:\n",
    "        y_pred_all.append(1)\n",
    "    else:\n",
    "        y_pred_all.append(0)\n",
    "\n",
    "print(\"Accuracies using Univariate Gaussian Distribution : \")\n",
    "print(f\"\\tAccuracy using only x1 : {accuracy_score(y_test, y_pred_only_x1)}\")\n",
    "print(f\"\\tAccuracy using only x2 : {accuracy_score(y_test, y_pred_only_x2)}\")\n",
    "print(f\"\\tAccuracy using x1, x2 : {accuracy_score(y_test, y_pred_all)}\")\n"
   ]
  }
 ],
 "metadata": {
  "kernelspec": {
   "display_name": "Python 3 (ipykernel)",
   "language": "python",
   "name": "python3"
  },
  "language_info": {
   "codemirror_mode": {
    "name": "ipython",
    "version": 3
   },
   "file_extension": ".py",
   "mimetype": "text/x-python",
   "name": "python",
   "nbconvert_exporter": "python",
   "pygments_lexer": "ipython3",
   "version": "3.8.7"
  },
  "pycharm": {
   "stem_cell": {
    "cell_type": "raw",
    "metadata": {
     "collapsed": false
    },
    "source": []
   }
  }
 },
 "nbformat": 4,
 "nbformat_minor": 1
}