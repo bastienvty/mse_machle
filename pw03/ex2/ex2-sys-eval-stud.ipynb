{
 "cells": [
  {
   "cell_type": "markdown",
   "id": "bcf79585",
   "metadata": {},
   "source": [
    "# Exercice 2 - System evaluation"
   ]
  },
  {
   "cell_type": "markdown",
   "id": "f642cedb",
   "metadata": {},
   "source": [
    "## Imports"
   ]
  },
  {
   "cell_type": "code",
   "execution_count": 1,
   "id": "9421a4e1",
   "metadata": {},
   "outputs": [],
   "source": [
    "import pandas as pd\n",
    "import numpy as np"
   ]
  },
  {
   "cell_type": "markdown",
   "id": "a0d67fa6",
   "metadata": {},
   "source": [
    "## Load data"
   ]
  },
  {
   "cell_type": "markdown",
   "id": "5fe90672",
   "metadata": {},
   "source": [
    "Define the path of the data file"
   ]
  },
  {
   "cell_type": "code",
   "execution_count": 2,
   "id": "ecd4a4cf",
   "metadata": {},
   "outputs": [],
   "source": [
    "path = \"ex2-system-a.csv\""
   ]
  },
  {
   "cell_type": "markdown",
   "id": "246e7392",
   "metadata": {},
   "source": [
    "Read the CSV file using `read_csv`"
   ]
  },
  {
   "cell_type": "code",
   "execution_count": 3,
   "id": "623096a5",
   "metadata": {},
   "outputs": [],
   "source": [
    "dataset_a = pd.read_csv(path, sep=\";\", index_col=False, names=[\"0\", \"1\", \"2\", \"3\", \"4\", \"5\", \"6\", \"7\", \"8\", \"9\", \"y_true\"])"
   ]
  },
  {
   "cell_type": "markdown",
   "id": "6f764c56",
   "metadata": {},
   "source": [
    "Display first rows"
   ]
  },
  {
   "cell_type": "code",
   "execution_count": 4,
   "id": "c59a1651",
   "metadata": {},
   "outputs": [
    {
     "data": {
      "text/plain": "               0             1             2             3             4  \\\n0   5.348450e-08  7.493480e-10  8.083470e-07  2.082290e-05  5.222360e-10   \n1   1.334270e-03  3.202960e-05  8.504280e-01  1.669090e-03  1.546460e-07   \n2   3.643050e-06  9.962760e-01  2.045910e-03  4.210530e-04  2.194020e-05   \n3   9.998200e-01  2.550390e-10  1.112010e-05  1.653200e-05  5.375730e-10   \n4   2.092460e-08  7.464220e-08  3.560820e-05  5.496200e-07  9.988960e-01   \n5   2.011990e-07  9.993280e-01  1.373340e-04  9.398550e-05  3.639770e-06   \n6   2.688980e-08  1.046870e-07  1.950800e-08  1.143070e-05  9.988710e-01   \n7   6.513580e-08  9.340830e-04  2.195370e-06  2.091130e-03  3.057780e-04   \n8   3.753230e-03  1.369070e-04  2.209800e-01  1.916410e-07  3.931230e-02   \n9   3.015160e-06  5.759270e-08  5.523310e-08  1.671420e-06  5.231160e-03   \n10  9.983810e-01  7.819390e-09  6.024860e-04  2.359650e-05  2.804090e-07   \n11  1.689710e-06  5.168480e-05  5.476900e-03  1.458740e-05  1.778030e-04   \n12  9.676730e-07  1.333410e-08  6.386980e-06  4.594640e-05  1.880950e-03   \n13  9.984610e-01  4.649560e-10  1.445250e-05  2.930530e-06  4.494640e-08   \n14  3.744610e-08  9.996800e-01  8.393790e-06  6.951770e-05  6.084290e-07   \n15  1.176940e-02  6.765870e-05  7.297610e-04  3.767730e-01  7.571000e-03   \n16  4.656880e-07  6.726960e-10  1.029100e-05  1.880320e-05  2.531630e-04   \n17  3.520050e-08  2.728810e-10  4.609080e-07  1.245720e-04  7.076250e-11   \n18  1.117590e-05  2.550140e-05  1.282500e-02  9.653040e-01  1.798730e-03   \n19  8.897120e-07  9.930990e-07  3.302750e-05  1.955980e-03  9.975520e-01   \n\n               5             6             7             8             9  \\\n0   2.330260e-08  5.241270e-12  9.999650e-01  4.808590e-07  1.250330e-05   \n1   2.412940e-04  1.448280e-01  1.122810e-11  1.456330e-03  1.062920e-05   \n2   1.644130e-05  2.838160e-04  3.722960e-04  5.150120e-04  4.425460e-05   \n3   8.999750e-05  9.380920e-06  4.464470e-05  2.418440e-06  6.395940e-06   \n4   3.070920e-08  2.346150e-04  9.748010e-07  1.071610e-06  8.314960e-04   \n5   6.491780e-07  1.917500e-06  2.661450e-04  1.611110e-04  7.030190e-06   \n6   8.732720e-05  3.141360e-06  1.719900e-07  1.242430e-04  9.027230e-04   \n7   1.550680e-04  1.131920e-05  2.050920e-02  1.204650e-03  9.747870e-01   \n8   4.035120e-04  7.351800e-01  6.685340e-10  2.307770e-04  2.417190e-06   \n9   3.469140e-06  4.120820e-06  5.262060e-02  2.633670e-04  9.418720e-01   \n10  5.617930e-04  1.173650e-04  2.575180e-09  3.130790e-04  9.914590e-08   \n11  6.701220e-07  9.941870e-01  7.802090e-08  8.855020e-05  1.657020e-06   \n12  3.402410e-05  9.327560e-07  8.848600e-04  1.683160e-04  9.969780e-01   \n13  2.640050e-04  3.517280e-07  6.731620e-06  1.013480e-03  2.372510e-04   \n14  4.823040e-05  1.197480e-05  3.595790e-05  1.394870e-04  6.019580e-06   \n15  5.647540e-01  9.435890e-04  5.374010e-05  1.413230e-02  2.320500e-02   \n16  3.541010e-07  7.598010e-07  6.393540e-03  1.345980e-05  9.933090e-01   \n17  1.813040e-09  5.475010e-12  9.998750e-01  7.450530e-08  2.964670e-07   \n18  2.444180e-04  1.932050e-02  5.977910e-08  3.932070e-04  7.684150e-05   \n19  3.228100e-06  6.720830e-05  1.936580e-05  3.223580e-05  3.353080e-04   \n\n    y_true  \n0        7  \n1        2  \n2        1  \n3        0  \n4        4  \n5        1  \n6        4  \n7        9  \n8        5  \n9        9  \n10       0  \n11       6  \n12       9  \n13       0  \n14       1  \n15       5  \n16       9  \n17       7  \n18       3  \n19       4  ",
      "text/html": "<div>\n<style scoped>\n    .dataframe tbody tr th:only-of-type {\n        vertical-align: middle;\n    }\n\n    .dataframe tbody tr th {\n        vertical-align: top;\n    }\n\n    .dataframe thead th {\n        text-align: right;\n    }\n</style>\n<table border=\"1\" class=\"dataframe\">\n  <thead>\n    <tr style=\"text-align: right;\">\n      <th></th>\n      <th>0</th>\n      <th>1</th>\n      <th>2</th>\n      <th>3</th>\n      <th>4</th>\n      <th>5</th>\n      <th>6</th>\n      <th>7</th>\n      <th>8</th>\n      <th>9</th>\n      <th>y_true</th>\n    </tr>\n  </thead>\n  <tbody>\n    <tr>\n      <th>0</th>\n      <td>5.348450e-08</td>\n      <td>7.493480e-10</td>\n      <td>8.083470e-07</td>\n      <td>2.082290e-05</td>\n      <td>5.222360e-10</td>\n      <td>2.330260e-08</td>\n      <td>5.241270e-12</td>\n      <td>9.999650e-01</td>\n      <td>4.808590e-07</td>\n      <td>1.250330e-05</td>\n      <td>7</td>\n    </tr>\n    <tr>\n      <th>1</th>\n      <td>1.334270e-03</td>\n      <td>3.202960e-05</td>\n      <td>8.504280e-01</td>\n      <td>1.669090e-03</td>\n      <td>1.546460e-07</td>\n      <td>2.412940e-04</td>\n      <td>1.448280e-01</td>\n      <td>1.122810e-11</td>\n      <td>1.456330e-03</td>\n      <td>1.062920e-05</td>\n      <td>2</td>\n    </tr>\n    <tr>\n      <th>2</th>\n      <td>3.643050e-06</td>\n      <td>9.962760e-01</td>\n      <td>2.045910e-03</td>\n      <td>4.210530e-04</td>\n      <td>2.194020e-05</td>\n      <td>1.644130e-05</td>\n      <td>2.838160e-04</td>\n      <td>3.722960e-04</td>\n      <td>5.150120e-04</td>\n      <td>4.425460e-05</td>\n      <td>1</td>\n    </tr>\n    <tr>\n      <th>3</th>\n      <td>9.998200e-01</td>\n      <td>2.550390e-10</td>\n      <td>1.112010e-05</td>\n      <td>1.653200e-05</td>\n      <td>5.375730e-10</td>\n      <td>8.999750e-05</td>\n      <td>9.380920e-06</td>\n      <td>4.464470e-05</td>\n      <td>2.418440e-06</td>\n      <td>6.395940e-06</td>\n      <td>0</td>\n    </tr>\n    <tr>\n      <th>4</th>\n      <td>2.092460e-08</td>\n      <td>7.464220e-08</td>\n      <td>3.560820e-05</td>\n      <td>5.496200e-07</td>\n      <td>9.988960e-01</td>\n      <td>3.070920e-08</td>\n      <td>2.346150e-04</td>\n      <td>9.748010e-07</td>\n      <td>1.071610e-06</td>\n      <td>8.314960e-04</td>\n      <td>4</td>\n    </tr>\n    <tr>\n      <th>5</th>\n      <td>2.011990e-07</td>\n      <td>9.993280e-01</td>\n      <td>1.373340e-04</td>\n      <td>9.398550e-05</td>\n      <td>3.639770e-06</td>\n      <td>6.491780e-07</td>\n      <td>1.917500e-06</td>\n      <td>2.661450e-04</td>\n      <td>1.611110e-04</td>\n      <td>7.030190e-06</td>\n      <td>1</td>\n    </tr>\n    <tr>\n      <th>6</th>\n      <td>2.688980e-08</td>\n      <td>1.046870e-07</td>\n      <td>1.950800e-08</td>\n      <td>1.143070e-05</td>\n      <td>9.988710e-01</td>\n      <td>8.732720e-05</td>\n      <td>3.141360e-06</td>\n      <td>1.719900e-07</td>\n      <td>1.242430e-04</td>\n      <td>9.027230e-04</td>\n      <td>4</td>\n    </tr>\n    <tr>\n      <th>7</th>\n      <td>6.513580e-08</td>\n      <td>9.340830e-04</td>\n      <td>2.195370e-06</td>\n      <td>2.091130e-03</td>\n      <td>3.057780e-04</td>\n      <td>1.550680e-04</td>\n      <td>1.131920e-05</td>\n      <td>2.050920e-02</td>\n      <td>1.204650e-03</td>\n      <td>9.747870e-01</td>\n      <td>9</td>\n    </tr>\n    <tr>\n      <th>8</th>\n      <td>3.753230e-03</td>\n      <td>1.369070e-04</td>\n      <td>2.209800e-01</td>\n      <td>1.916410e-07</td>\n      <td>3.931230e-02</td>\n      <td>4.035120e-04</td>\n      <td>7.351800e-01</td>\n      <td>6.685340e-10</td>\n      <td>2.307770e-04</td>\n      <td>2.417190e-06</td>\n      <td>5</td>\n    </tr>\n    <tr>\n      <th>9</th>\n      <td>3.015160e-06</td>\n      <td>5.759270e-08</td>\n      <td>5.523310e-08</td>\n      <td>1.671420e-06</td>\n      <td>5.231160e-03</td>\n      <td>3.469140e-06</td>\n      <td>4.120820e-06</td>\n      <td>5.262060e-02</td>\n      <td>2.633670e-04</td>\n      <td>9.418720e-01</td>\n      <td>9</td>\n    </tr>\n    <tr>\n      <th>10</th>\n      <td>9.983810e-01</td>\n      <td>7.819390e-09</td>\n      <td>6.024860e-04</td>\n      <td>2.359650e-05</td>\n      <td>2.804090e-07</td>\n      <td>5.617930e-04</td>\n      <td>1.173650e-04</td>\n      <td>2.575180e-09</td>\n      <td>3.130790e-04</td>\n      <td>9.914590e-08</td>\n      <td>0</td>\n    </tr>\n    <tr>\n      <th>11</th>\n      <td>1.689710e-06</td>\n      <td>5.168480e-05</td>\n      <td>5.476900e-03</td>\n      <td>1.458740e-05</td>\n      <td>1.778030e-04</td>\n      <td>6.701220e-07</td>\n      <td>9.941870e-01</td>\n      <td>7.802090e-08</td>\n      <td>8.855020e-05</td>\n      <td>1.657020e-06</td>\n      <td>6</td>\n    </tr>\n    <tr>\n      <th>12</th>\n      <td>9.676730e-07</td>\n      <td>1.333410e-08</td>\n      <td>6.386980e-06</td>\n      <td>4.594640e-05</td>\n      <td>1.880950e-03</td>\n      <td>3.402410e-05</td>\n      <td>9.327560e-07</td>\n      <td>8.848600e-04</td>\n      <td>1.683160e-04</td>\n      <td>9.969780e-01</td>\n      <td>9</td>\n    </tr>\n    <tr>\n      <th>13</th>\n      <td>9.984610e-01</td>\n      <td>4.649560e-10</td>\n      <td>1.445250e-05</td>\n      <td>2.930530e-06</td>\n      <td>4.494640e-08</td>\n      <td>2.640050e-04</td>\n      <td>3.517280e-07</td>\n      <td>6.731620e-06</td>\n      <td>1.013480e-03</td>\n      <td>2.372510e-04</td>\n      <td>0</td>\n    </tr>\n    <tr>\n      <th>14</th>\n      <td>3.744610e-08</td>\n      <td>9.996800e-01</td>\n      <td>8.393790e-06</td>\n      <td>6.951770e-05</td>\n      <td>6.084290e-07</td>\n      <td>4.823040e-05</td>\n      <td>1.197480e-05</td>\n      <td>3.595790e-05</td>\n      <td>1.394870e-04</td>\n      <td>6.019580e-06</td>\n      <td>1</td>\n    </tr>\n    <tr>\n      <th>15</th>\n      <td>1.176940e-02</td>\n      <td>6.765870e-05</td>\n      <td>7.297610e-04</td>\n      <td>3.767730e-01</td>\n      <td>7.571000e-03</td>\n      <td>5.647540e-01</td>\n      <td>9.435890e-04</td>\n      <td>5.374010e-05</td>\n      <td>1.413230e-02</td>\n      <td>2.320500e-02</td>\n      <td>5</td>\n    </tr>\n    <tr>\n      <th>16</th>\n      <td>4.656880e-07</td>\n      <td>6.726960e-10</td>\n      <td>1.029100e-05</td>\n      <td>1.880320e-05</td>\n      <td>2.531630e-04</td>\n      <td>3.541010e-07</td>\n      <td>7.598010e-07</td>\n      <td>6.393540e-03</td>\n      <td>1.345980e-05</td>\n      <td>9.933090e-01</td>\n      <td>9</td>\n    </tr>\n    <tr>\n      <th>17</th>\n      <td>3.520050e-08</td>\n      <td>2.728810e-10</td>\n      <td>4.609080e-07</td>\n      <td>1.245720e-04</td>\n      <td>7.076250e-11</td>\n      <td>1.813040e-09</td>\n      <td>5.475010e-12</td>\n      <td>9.998750e-01</td>\n      <td>7.450530e-08</td>\n      <td>2.964670e-07</td>\n      <td>7</td>\n    </tr>\n    <tr>\n      <th>18</th>\n      <td>1.117590e-05</td>\n      <td>2.550140e-05</td>\n      <td>1.282500e-02</td>\n      <td>9.653040e-01</td>\n      <td>1.798730e-03</td>\n      <td>2.444180e-04</td>\n      <td>1.932050e-02</td>\n      <td>5.977910e-08</td>\n      <td>3.932070e-04</td>\n      <td>7.684150e-05</td>\n      <td>3</td>\n    </tr>\n    <tr>\n      <th>19</th>\n      <td>8.897120e-07</td>\n      <td>9.930990e-07</td>\n      <td>3.302750e-05</td>\n      <td>1.955980e-03</td>\n      <td>9.975520e-01</td>\n      <td>3.228100e-06</td>\n      <td>6.720830e-05</td>\n      <td>1.936580e-05</td>\n      <td>3.223580e-05</td>\n      <td>3.353080e-04</td>\n      <td>4</td>\n    </tr>\n  </tbody>\n</table>\n</div>"
     },
     "execution_count": 4,
     "metadata": {},
     "output_type": "execute_result"
    }
   ],
   "source": [
    "dataset_a.head(20)"
   ]
  },
  {
   "cell_type": "markdown",
   "id": "41f040b0",
   "metadata": {},
   "source": [
    "Store some useful statistics (class names + number of classes)"
   ]
  },
  {
   "cell_type": "code",
   "execution_count": 5,
   "id": "fd0adce4",
   "metadata": {},
   "outputs": [
    {
     "name": "stdout",
     "output_type": "stream",
     "text": [
      "10\n"
     ]
    }
   ],
   "source": [
    "class_names = [\"0\", \"1\", \"2\", \"3\", \"4\", \"5\", \"6\", \"7\", \"8\", \"9\"]\n",
    "nb_classes = len(class_names)\n",
    "print(nb_classes)"
   ]
  },
  {
   "cell_type": "markdown",
   "id": "5a0ab85a",
   "metadata": {},
   "source": [
    "## Exercise's steps"
   ]
  },
  {
   "cell_type": "markdown",
   "id": "66ae582e",
   "metadata": {},
   "source": [
    "a) Write a function to take classification decisions on such outputs according to Bayes’rule."
   ]
  },
  {
   "cell_type": "code",
   "execution_count": 6,
   "outputs": [],
   "source": [
    "_posterior_probs = dataset_a.iloc[:, :-1].values\n",
    "_ground_truth = dataset_a.iloc[:, -1].values\n",
    "\n"
   ],
   "metadata": {
    "collapsed": false,
    "pycharm": {
     "name": "#%%\n"
    }
   }
  },
  {
   "cell_type": "code",
   "execution_count": 7,
   "id": "3c36b377",
   "metadata": {},
   "outputs": [],
   "source": [
    "def bayes_classification(df):\n",
    "    \"\"\"\n",
    "    Take classification decisions according to Bayes rule.\n",
    "        \n",
    "    Parameters\n",
    "    ----------\n",
    "    df : Pandas DataFrame of shape (n_samples, n_features + ground truth)\n",
    "         Dataset.\n",
    "         \n",
    "    Returns\n",
    "    -------\n",
    "    preds : Numpy array of shape (n_samples,)\n",
    "            Class labels for each data sample.\n",
    "    \"\"\"\n",
    "\n",
    "    posterior_probs = df.iloc[:, :-1].values # parti de gauche\n",
    "    ground_truth = df.iloc[:, -1].values # bonnes valeurs\n",
    "\n",
    "    preds = np.argmax(posterior_probs, axis=1)\n",
    "    # Qu'est ce que le arg max va faire dans notre cas ?\n",
    "    # Il va parcourir tout la ligne et ressortir l'index de la plus grande valeur de la ligne\n",
    "    # [[1, 7, 3], [3, 1, 8]] si on applique l'argmx la dessus, on aura un tableau [1 , 2] car cela correspond a l'index du 7 dans la première ligne et l'index du 8 dans la deuxieme\n",
    "\n",
    "    # Compare predictions with ground truth to calculate accuracy --> troouver sur interner à ne pas prendre en compte\n",
    "    accuracy = np.mean(preds == ground_truth) * 100\n",
    "    print(f\"Accuracy: {accuracy:.2f}%\")\n",
    "    return preds"
   ]
  },
  {
   "cell_type": "code",
   "execution_count": 8,
   "outputs": [
    {
     "name": "stdout",
     "output_type": "stream",
     "text": [
      "Accuracy: 89.27%\n"
     ]
    },
    {
     "data": {
      "text/plain": "array([7, 2, 1, ..., 4, 5, 6], dtype=int64)"
     },
     "execution_count": 8,
     "metadata": {},
     "output_type": "execute_result"
    }
   ],
   "source": [
    "preds = bayes_classification(dataset_a)\n",
    "preds"
   ],
   "metadata": {
    "collapsed": false,
    "pycharm": {
     "name": "#%%\n"
    }
   }
  },
  {
   "cell_type": "markdown",
   "id": "b5e8140b",
   "metadata": {},
   "source": [
    "b) What is the overall error rate of the system ?"
   ]
  },
  {
   "cell_type": "code",
   "execution_count": 9,
   "id": "f3b21bfb",
   "metadata": {},
   "outputs": [
    {
     "data": {
      "text/plain": "10.73"
     },
     "execution_count": 9,
     "metadata": {},
     "output_type": "execute_result"
    }
   ],
   "source": [
    "# Your code here: compute and print the error rate of the system\n",
    "\n",
    "error_rate = np.mean(preds != _ground_truth)\n",
    "error_rate * 100"
   ]
  },
  {
   "cell_type": "markdown",
   "id": "a4f0fa5f",
   "metadata": {},
   "source": [
    "c) Compute and report the confusion matrix of the system."
   ]
  },
  {
   "cell_type": "code",
   "execution_count": 10,
   "id": "bb106415",
   "metadata": {},
   "outputs": [],
   "source": [
    "def confusion_matrix(y_true, y_pred, n_classes):\n",
    "    \"\"\"\n",
    "    Compute the confusion matrix.\n",
    "        \n",
    "    Parameters\n",
    "    ----------\n",
    "    y_true : Numpy array of shape (n_samples,)\n",
    "             Ground truth.\n",
    "    y_pred : Numpy array of shape (n_samples,)\n",
    "             Predictions.\n",
    "    n_classes : Integer\n",
    "                Number of classes.\n",
    "         \n",
    "    Returns\n",
    "    -------\n",
    "    cm : Numpy array of shape (n_classes, n_classes)\n",
    "         Confusion matrix.\n",
    "    \"\"\"\n",
    "    cm = np.zeros((n_classes, n_classes), dtype=int)\n",
    "\n",
    "    for i in range(len(y_true)):\n",
    "        true_class = y_true[i]\n",
    "        predicted_class = y_pred[i]\n",
    "        cm[true_class][predicted_class] += 1 # true_class = row and predicted = column\n",
    "\n",
    "    return cm"
   ]
  },
  {
   "cell_type": "code",
   "execution_count": 11,
   "id": "1b38e3a8",
   "metadata": {},
   "outputs": [
    {
     "data": {
      "text/plain": "array([[ 944,    0,   11,    0,    0,    2,   10,    7,    5,    1],\n       [   0, 1112,    2,    3,    1,    4,    3,    1,    9,    0],\n       [  10,    6,  921,   12,   15,    3,   19,   15,   26,    5],\n       [   1,    1,   31,  862,    2,   72,    5,   14,   12,   10],\n       [   2,    3,    6,    2,  910,    1,   12,    6,    4,   36],\n       [  12,    3,    6,   29,   19,  768,   19,    9,   21,    6],\n       [  14,    3,   21,    2,   22,   28,  865,    0,    3,    0],\n       [   0,   14,   30,    9,    7,    2,    1,  929,    3,   33],\n       [  12,   16,   18,   26,   24,   46,   22,   19,  772,   19],\n       [  10,    4,    6,   22,   53,   18,    0,   48,    4,  844]])"
     },
     "execution_count": 11,
     "metadata": {},
     "output_type": "execute_result"
    }
   ],
   "source": [
    "# Your code here: compute and print the confusion matrix\n",
    "\n",
    "confusion = confusion_matrix(_ground_truth, preds, nb_classes)\n",
    "confusion"
   ]
  },
  {
   "cell_type": "markdown",
   "id": "ed8db908",
   "metadata": {},
   "source": [
    "d) What are the worst and best classes in terms of precision and recall ?"
   ]
  },
  {
   "cell_type": "code",
   "execution_count": 12,
   "id": "0e229ce0",
   "metadata": {},
   "outputs": [
    {
     "name": "stdout",
     "output_type": "stream",
     "text": [
      "[0.93930348 0.95697074 0.87547529 0.89141675 0.86419753 0.81355932\n",
      " 0.90481172 0.88645038 0.89871944 0.88469602]\n"
     ]
    },
    {
     "name": "stderr",
     "output_type": "stream",
     "text": [
      "C:\\Users\\ribei\\AppData\\Local\\Temp\\ipykernel_17140\\1053748143.py:18: DeprecationWarning: Calling np.sum(generator) is deprecated, and in the future will give a different result. Use np.sum(np.fromiter(generator)) or the python sum builtin instead.\n",
      "  tab[index] = np.sum(row[index] for row in cm)\n"
     ]
    }
   ],
   "source": [
    "def precision_per_class(cm):\n",
    "    \"\"\"\n",
    "    Compute the precision per class.\n",
    "        \n",
    "    Parameters\n",
    "    ----------\n",
    "    cm : Numpy array of shape (n_classes, n_classes)\n",
    "         Confusion matrix.\n",
    "         \n",
    "    Returns\n",
    "    -------\n",
    "    precisions : Numpy array of shape (n_classes,)\n",
    "                 Precision per class.\n",
    "    \"\"\"\n",
    "    tab = np.zeros(len(cm[:, 0]))\n",
    "    precision_class_array = np.zeros(len(cm[:, 0]))\n",
    "    for index in range(len(cm[0])):\n",
    "        tab[index] = np.sum(row[index] for row in cm)\n",
    "\n",
    "    ind = 0\n",
    "    for sum in tab:\n",
    "        precision_class_array[ind] = cm[ind,ind] / tab[ind]\n",
    "        ind += 1\n",
    "\n",
    "    return precision_class_array\n",
    "\n",
    "print(precision_per_class(confusion))\n"
   ]
  },
  {
   "cell_type": "code",
   "execution_count": 13,
   "id": "95325772",
   "metadata": {},
   "outputs": [
    {
     "name": "stdout",
     "output_type": "stream",
     "text": [
      "[0.96326531 0.97973568 0.89244186 0.85346535 0.92668024 0.86098655\n",
      " 0.90292276 0.9036965  0.7926078  0.83647175]\n"
     ]
    }
   ],
   "source": [
    "def recall_per_class(cm):\n",
    "    \"\"\"\n",
    "    Compute the recall per class.\n",
    "        \n",
    "    Parameters\n",
    "    ----------\n",
    "    cm : Numpy array of shape (n_classes, n_classes)\n",
    "         Confusion matrix.\n",
    "         \n",
    "    Returns\n",
    "    -------\n",
    "    recalls : Numpy array of shape (n_classes,)\n",
    "              Recall per class.\n",
    "    \"\"\"\n",
    "    tab = np.zeros(len(cm[:, 0]))\n",
    "    recall_class_array = np.zeros(len(cm[:, 0]))\n",
    "    for index in range(len(cm[0])):\n",
    "        tab[index] = np.sum(cm[index])\n",
    "\n",
    "    ind = 0\n",
    "    for sum in tab:\n",
    "        recall_class_array[ind] = cm[ind,ind] / tab[ind]\n",
    "        ind += 1\n",
    "\n",
    "    return recall_class_array\n",
    "\n",
    "print(recall_per_class(confusion))"
   ]
  },
  {
   "cell_type": "code",
   "execution_count": 14,
   "outputs": [
    {
     "name": "stdout",
     "output_type": "stream",
     "text": [
      "[0.93930348 0.95697074 0.87547529 0.89141675 0.86419753 0.81355932\n",
      " 0.90481172 0.88645038 0.89871944 0.88469602]\n"
     ]
    },
    {
     "name": "stderr",
     "output_type": "stream",
     "text": [
      "C:\\Users\\ribei\\AppData\\Local\\Temp\\ipykernel_17140\\1053748143.py:18: DeprecationWarning: Calling np.sum(generator) is deprecated, and in the future will give a different result. Use np.sum(np.fromiter(generator)) or the python sum builtin instead.\n",
      "  tab[index] = np.sum(row[index] for row in cm)\n"
     ]
    }
   ],
   "source": [
    "print(precision_per_class(confusion))"
   ],
   "metadata": {
    "collapsed": false,
    "pycharm": {
     "name": "#%%\n"
    }
   }
  },
  {
   "cell_type": "code",
   "execution_count": 15,
   "id": "a0fb19e3",
   "metadata": {},
   "outputs": [
    {
     "name": "stdout",
     "output_type": "stream",
     "text": [
      "Array of precisions : [0.93930348 0.95697074 0.87547529 0.89141675 0.86419753 0.81355932\n",
      " 0.90481172 0.88645038 0.89871944 0.88469602]\n",
      "La classe avec la plus grand précision : 1\n",
      "La classe avec la plus petite précision : 5\n"
     ]
    },
    {
     "name": "stderr",
     "output_type": "stream",
     "text": [
      "C:\\Users\\ribei\\AppData\\Local\\Temp\\ipykernel_17140\\1053748143.py:18: DeprecationWarning: Calling np.sum(generator) is deprecated, and in the future will give a different result. Use np.sum(np.fromiter(generator)) or the python sum builtin instead.\n",
      "  tab[index] = np.sum(row[index] for row in cm)\n"
     ]
    }
   ],
   "source": [
    "# Your code here: find and print the worst and best classes in terms of precision\n",
    "print(f\"Array of precisions : {precision_per_class(confusion)}\")\n",
    "print(f\"La classe avec la plus grand précision : {np.argmax(precision_per_class(confusion))}\")\n",
    "print(f\"La classe avec la plus petite précision : {np.argmin(precision_per_class(confusion))}\")"
   ]
  },
  {
   "cell_type": "code",
   "execution_count": 16,
   "id": "42c3edd8",
   "metadata": {},
   "outputs": [
    {
     "name": "stdout",
     "output_type": "stream",
     "text": [
      "Array of recalls : [0.96326531 0.97973568 0.89244186 0.85346535 0.92668024 0.86098655\n",
      " 0.90292276 0.9036965  0.7926078  0.83647175]\n",
      "La classe avec le plus grand recall : 1\n",
      "La classe avec le plus petite recall : 8\n"
     ]
    }
   ],
   "source": [
    "# Your code here: find and print the worst and best classes in terms of recall\n",
    "print(f\"Array of recalls : {recall_per_class(confusion)}\")\n",
    "print(f\"La classe avec le plus grand recall : {np.argmax(recall_per_class(confusion))}\")\n",
    "print(f\"La classe avec le plus petite recall : {np.argmin(recall_per_class(confusion))}\")"
   ]
  },
  {
   "cell_type": "markdown",
   "id": "7ac6fe5d",
   "metadata": {},
   "source": [
    "e) In file `ex1-system-b.csv` you find the output of a second system B. What is the best system between (a) and (b) in terms of error rate and F1."
   ]
  },
  {
   "cell_type": "code",
   "execution_count": 17,
   "id": "b98c2545",
   "metadata": {},
   "outputs": [
    {
     "name": "stdout",
     "output_type": "stream",
     "text": [
      "Accuracy: 96.13%\n"
     ]
    }
   ],
   "source": [
    "# Your code here: load the data of the system B\n",
    "path = \"ex2-system-b.csv\"\n",
    "dataset_b = pd.read_csv(path, sep=\";\", index_col=False, names=[\"0\", \"1\", \"2\", \"3\", \"4\", \"5\", \"6\", \"7\", \"8\", \"9\", \"y_true\"])\n",
    "\n",
    "#print(dataset_b.head(20))\n",
    "\n",
    "class_names_b = [\"0\", \"1\", \"2\", \"3\", \"4\", \"5\", \"6\", \"7\", \"8\", \"9\"]\n",
    "nb_classes_b = len(class_names_b)\n",
    "#print(nb_classes_b)\n",
    "\n",
    "_posterior_probs_b = dataset_b.iloc[:, :-1].values\n",
    "_ground_truth_b = dataset_b.iloc[:, -1].values\n",
    "\n",
    "\n",
    "preds_b = bayes_classification(dataset_b)\n",
    "confusion_b = confusion_matrix(_ground_truth_b, preds_b, nb_classes_b)"
   ]
  },
  {
   "cell_type": "code",
   "execution_count": 18,
   "id": "050091b9",
   "metadata": {},
   "outputs": [],
   "source": [
    "def calculate_confusion_matrix_totals(cm):\n",
    "\n",
    "    # declare values to append\n",
    "    row_total = np.sum(cm, axis=1)\n",
    "    column_total = np.sum(cm, axis=0)\n",
    "    grand_total = np.sum(cm)\n",
    "\n",
    "    accuracy_per_class = np.sum(np.diag(cm)) / grand_total # full accuracy of the system\n",
    "    cm_with_row_sums = np.hstack((cm, row_total[:, np.newaxis])) # concatenate the row totals to the df\n",
    "\n",
    "    final_df = np.vstack((cm_with_row_sums, np.append(column_total, grand_total))) # add the column sums\n",
    "\n",
    "    return final_df, accuracy_per_class # return\n",
    "\n",
    "def system_accuracy(cm):\n",
    "    \"\"\"\n",
    "    Compute the system accuracy.\n",
    "        \n",
    "    Parameters\n",
    "    ----------\n",
    "    cm : Numpy array of shape (n_classes, n_classes)\n",
    "         Confusion matrix.\n",
    "         \n",
    "    Returns\n",
    "    -------\n",
    "    accuracy : Float\n",
    "               Accuracy of the system.\n",
    "    \"\"\"\n",
    "    final_df, accuracy_total = calculate_confusion_matrix_totals(cm)\n",
    "    #print(\"\\nConfusion Matrix with Column and Grand Total:\")\n",
    "    #print(final_df)\n",
    "    #print(f\"Full system accuracy : {accuracy_total}\")\n",
    "    return accuracy_total"
   ]
  },
  {
   "cell_type": "code",
   "execution_count": 19,
   "id": "adc0f138",
   "metadata": {},
   "outputs": [],
   "source": [
    "def system_f1_score(cm):\n",
    "    \"\"\"\n",
    "    Compute the system F1 score.\n",
    "        \n",
    "    Parameters\n",
    "    ----------\n",
    "    cm : Numpy array of shape (n_classes, n_classes)\n",
    "         Confusion matrix.\n",
    "         \n",
    "    Returns\n",
    "    -------\n",
    "    f1_score : Float\n",
    "               F1 score of the system.\n",
    "    \"\"\"\n",
    "    precision = precision_per_class(cm)\n",
    "    recall = recall_per_class(cm)\n",
    "\n",
    "    f1_score = 2 * (precision * recall) / (precision + recall)\n",
    "    return np.mean(f1_score)\n"
   ]
  },
  {
   "cell_type": "code",
   "execution_count": 20,
   "id": "f1385c87",
   "metadata": {},
   "outputs": [
    {
     "name": "stdout",
     "output_type": "stream",
     "text": [
      "The accuracy of the system a is 0.8927\n",
      "The F1 Score of the system a is 0.8907308492877297\n"
     ]
    },
    {
     "name": "stderr",
     "output_type": "stream",
     "text": [
      "C:\\Users\\ribei\\AppData\\Local\\Temp\\ipykernel_17140\\1053748143.py:18: DeprecationWarning: Calling np.sum(generator) is deprecated, and in the future will give a different result. Use np.sum(np.fromiter(generator)) or the python sum builtin instead.\n",
      "  tab[index] = np.sum(row[index] for row in cm)\n"
     ]
    }
   ],
   "source": [
    "# Your code here: compute and print the accuracy and the F1 score of the system A\n",
    "print(f\"The accuracy of the system a is {system_accuracy(confusion)}\")\n",
    "print(f\"The F1 Score of the system a is {system_f1_score(confusion)}\")"
   ]
  },
  {
   "cell_type": "code",
   "execution_count": 21,
   "id": "50c64d08",
   "metadata": {},
   "outputs": [
    {
     "name": "stdout",
     "output_type": "stream",
     "text": [
      "The accuracy of the system b is 0.9613\n",
      "The F1 Score of the system b is 0.9608568150389065\n"
     ]
    },
    {
     "name": "stderr",
     "output_type": "stream",
     "text": [
      "C:\\Users\\ribei\\AppData\\Local\\Temp\\ipykernel_17140\\1053748143.py:18: DeprecationWarning: Calling np.sum(generator) is deprecated, and in the future will give a different result. Use np.sum(np.fromiter(generator)) or the python sum builtin instead.\n",
      "  tab[index] = np.sum(row[index] for row in cm)\n"
     ]
    }
   ],
   "source": [
    "# Your code here: compute and print the accuracy and the F1 score of the system B\n",
    "print(f\"The accuracy of the system b is {system_accuracy(confusion_b)}\")\n",
    "print(f\"The F1 Score of the system b is {system_f1_score(confusion_b)}\")"
   ]
  },
  {
   "cell_type": "markdown",
   "source": [
    "Overall, the system b is better then the a as the f1_score mentions."
   ],
   "metadata": {
    "collapsed": false
   }
  }
 ],
 "metadata": {
  "kernelspec": {
   "display_name": "Python 3 (ipykernel)",
   "language": "python",
   "name": "python3"
  },
  "language_info": {
   "codemirror_mode": {
    "name": "ipython",
    "version": 3
   },
   "file_extension": ".py",
   "mimetype": "text/x-python",
   "name": "python",
   "nbconvert_exporter": "python",
   "pygments_lexer": "ipython3",
   "version": "3.7.11"
  }
 },
 "nbformat": 4,
 "nbformat_minor": 5
}