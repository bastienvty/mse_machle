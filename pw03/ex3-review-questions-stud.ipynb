{
 "cells": [
  {
   "cell_type": "markdown",
   "id": "ad0d40d6",
   "metadata": {},
   "source": [
    "# Exercice 3 - Review questions"
   ]
  },
  {
   "cell_type": "markdown",
   "id": "3e556a9d",
   "metadata": {},
   "source": [
    "**a) Assuming an univariate input *x*, what is the complexity at inference time of a Bayesian classifier based on histogram computation of the likelihood ?**"
   ]
  },
  {
   "cell_type": "markdown",
   "id": "8d2fb7ef",
   "metadata": {},
   "source": [
    "\"Build an estimator of p(x|Ck) for all class Ck\" (slide 24)\n",
    "\n",
    "- O(k) where k is the number of classes"
   ]
  },
  {
   "cell_type": "markdown",
   "id": "99632770",
   "metadata": {},
   "source": [
    "**b) Bayesian models are said to be generative as they can be used to generate new samples. Taking the implementation of the exercise 1.a, explain the steps to generate new samples using the system you have put into place.**\n",
    " "
   ]
  },
  {
   "cell_type": "markdown",
   "id": "88ab64b2",
   "metadata": {},
   "source": [
    "1. Pick the class Ck randomly according to the a priori probabilities (prior) P(Ck)\n",
    "2. Pick a random value x (bin of hist) according to the probability density function p(x|Ck) (likelihood)\n",
    "3. Repeat 1 and 2 to generate a new sample\n",
    "4. Repeat 1, 2 and 3 to generate as many samples as you want\n",
    "5. Plot the samples"
   ]
  },
  {
   "cell_type": "markdown",
   "id": "e2f611fe",
   "metadata": {},
   "source": [
    "***Optional*: Provide an implementation in a function generateSample(priors, histValues, edgeValues, n)**"
   ]
  },
  {
   "cell_type": "code",
   "execution_count": 1,
   "id": "14aba0f7",
   "metadata": {
    "ExecuteTime": {
     "end_time": "2023-10-07T15:50:55.338020Z",
     "start_time": "2023-10-07T15:50:55.332779Z"
    }
   },
   "outputs": [],
   "source": [
    "import numpy as np\n",
    "def generateSample(priors, histValues, edgeValues, n):\n",
    "    samples = []\n",
    "    random_classes = np.random.choice(len(priors), n, p=priors)\n",
    "    # select random x (bin)\n",
    "    x = np.random.choice(histValues, n, p=histValues/np.sum(histValues)) \n",
    "    for i in range(n):\n",
    "        sample = np.random.uniform(edgeValues[x], edgeValues[x+1]) # generate sample\n",
    "        samples.append(sample)\n",
    "    return samples"
   ]
  },
  {
   "cell_type": "markdown",
   "id": "ed8c4f6b",
   "metadata": {},
   "source": [
    "\n",
    "**c) What is the minimum overall accuracy of a 2-class system relying only on priors and that is built on a training set that includes 5 times more samples in class A than in class B?**"
   ]
  },
  {
   "cell_type": "markdown",
   "id": "4bb03365",
   "metadata": {},
   "source": [
    "If they are 5 more chances to select randomly a sample from class A than from B, the minimum accuracy for A is 5/6. As for B, its prior is 1/6. So for the system (A and B) the minimum overall accuracy is 5/6."
   ]
  },
  {
   "cell_type": "markdown",
   "id": "58450ff6",
   "metadata": {},
   "source": [
    "**d) Let’s look back at the PW02 exercise 3 of last week. We have built a knn classification systems for images of digits on the MNIST database.**\n",
    "\n",
    "**How would you build a Bayesian classification for the same task ? Comment on the prior probabilities and on the likelihood estimators. More specifically, what kind of likelihood estimator could we use in this case ?**"
   ]
  },
  {
   "cell_type": "markdown",
   "id": "d2bf1500",
   "metadata": {},
   "source": [
    "In Exercise 3, we will follow a similar approach as employed in previous exercises. To accomplish this task effectively, it is essential to establish both the prior probabilities and the likelihood function.\n",
    "\n",
    "### Prior\n",
    "\n",
    "In our case, the prior probability is the number of times that each digit appears in the dataset. In the MNIST case, we generally can assume that the dataset is well balanced so the probabilties is equal.\n",
    "\n",
    "### Likelihood\n",
    "\n",
    "MNIST are simple images with black and white pixels. A choice we can do is to model the distribution of pixel values for each class. We can base out images and assume that they follow a gaussian approach and so we can calculate the mean and standard deviation of pixel values for each digit class separately in the training data. And then in the testing phase, we can just use the probability density function of the normal distribution as seen in the slides **(slide 32)**.\n",
    "\n",
    "This equation will calculate the likelihood the image given a specific digit class so we just need to take the best class likelihood.\n"
   ]
  },
  {
   "cell_type": "markdown",
   "id": "a3ca9715",
   "metadata": {},
   "source": [
    "***Optional:* implement it and report performance !**"
   ]
  },
  {
   "cell_type": "code",
   "execution_count": 2,
   "id": "4de72736",
   "metadata": {
    "ExecuteTime": {
     "end_time": "2023-10-07T15:50:55.344971Z",
     "start_time": "2023-10-07T15:50:55.337816Z"
    }
   },
   "outputs": [],
   "source": [
    "pass"
   ]
  },
  {
   "cell_type": "markdown",
   "id": "b812b46f",
   "metadata": {},
   "source": [
    "**e) Read [europe-border-control-ai-lie-detector](https://theintercept.com/2019/07/26/europe-border-control-ai-lie-detector/). The described system is \"a virtual policeman designed to strengthen European borders\". It can be seen as a 2-class problem, either you are a suspicious traveler or you are not. If you are declared as suspicious by the system, you are routed to a human border agent who analyses your case in a more careful way.**\n",
    "\n",
    "1. What kind of errors can the system make ? Explain them in your own words.\n",
    "2. Is one error more critical than the other ? Explain why.\n",
    "3. According to the previous points, which metric would you recommend to tune your MLsystem ?"
   ]
  },
  {
   "cell_type": "markdown",
   "id": "1adf1760",
   "metadata": {},
   "source": [
    "1. The system is prone to wrongfully declare a traveler as suspicious (false positive) or to wrongfully declare a traveler as not suspicious (false negative). This implies that somebody that has answered truthfully to all questions can be declared as suspicious (like the journalist) and that a terrorist can cross the border without being checked otherwise than with the IA System.\n",
    "2. The consequences of a false negative can be way more disastrous (the human check is not flawless either) as a terrorist being not stopped but the false positives (seems to happen more often) can add too much work on the security officers and also delay the travelers.\n",
    "3. To reduce the number of false negatives, the recall is a metric that can be enhanced."
   ]
  },
  {
   "cell_type": "markdown",
   "id": "195a1f73-c0f7-4707-9551-c71bfa379960",
   "metadata": {},
   "source": [
    "**f) When a deep learning architecture is trained using an unbalanced training set, we usually observe a problem of bias, i.e. the system favors one class over another one. Using the Bayes equation, explain what is the origin of the problem.**"
   ]
  },
  {
   "cell_type": "markdown",
   "id": "fa5ffd45-0645-4093-9a1b-0a7aeaeece0e",
   "metadata": {},
   "source": [
    "Based on the Bayes equation:\n",
    "\n",
    "P(C_k|x) = (p(x|C_k) P(C_k))/p(x)\n",
    "\n",
    "If the training set is unbalanced, the prior probabilities P(Ck) is not equal for all classes. The low-class will be unreprssented in the multiplication of the prior and the likelihood. The system will favor the high-class (higher result)."
   ]
  },
  {
   "cell_type": "code",
   "execution_count": null,
   "outputs": [],
   "source": [],
   "metadata": {
    "collapsed": false
   },
   "id": "b66ae5e42a44ecac"
  }
 ],
 "metadata": {
  "kernelspec": {
   "display_name": "Python 3 (ipykernel)",
   "language": "python",
   "name": "python3"
  },
  "language_info": {
   "codemirror_mode": {
    "name": "ipython",
    "version": 3
   },
   "file_extension": ".py",
   "mimetype": "text/x-python",
   "name": "python",
   "nbconvert_exporter": "python",
   "pygments_lexer": "ipython3",
   "version": "3.9.6"
  }
 },
 "nbformat": 4,
 "nbformat_minor": 5
}
