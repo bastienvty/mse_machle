{
 "cells": [
  {
   "cell_type": "markdown",
   "id": "73e004e8",
   "metadata": {},
   "source": [
    "# Practical work 08 - Clustering"
   ]
  },
  {
   "cell_type": "markdown",
   "id": "cad15c76",
   "metadata": {},
   "source": [
    "## Imports"
   ]
  },
  {
   "cell_type": "code",
   "execution_count": 1,
   "id": "f9192497",
   "metadata": {},
   "outputs": [],
   "source": [
    "import _pickle as pickle\n",
    "import matplotlib.pyplot as plt\n",
    "import numpy as np\n",
    "from math import sqrt"
   ]
  },
  {
   "cell_type": "markdown",
   "id": "8344e2ac",
   "metadata": {},
   "source": [
    "## Exercise 1 - Getting the data"
   ]
  },
  {
   "cell_type": "markdown",
   "id": "30602b89",
   "metadata": {},
   "source": [
    "a) Load the two given datasets:"
   ]
  },
  {
   "cell_type": "code",
   "execution_count": 2,
   "id": "ddbfd250",
   "metadata": {},
   "outputs": [],
   "source": [
    "# Your code here"
   ]
  },
  {
   "cell_type": "markdown",
   "id": "21996467",
   "metadata": {},
   "source": [
    "b) Visualize the data using various color for each unique labels"
   ]
  },
  {
   "cell_type": "code",
   "execution_count": 3,
   "id": "ddc519e0",
   "metadata": {},
   "outputs": [],
   "source": [
    "# Your code here"
   ]
  },
  {
   "cell_type": "markdown",
   "id": "24f2ecb8",
   "metadata": {},
   "source": [
    "## Exercise 2 - The $k$-means algorithm"
   ]
  },
  {
   "cell_type": "markdown",
   "id": "197a7066",
   "metadata": {},
   "source": [
    "a) Initialise the centroids $\\mu_1, \\mu_2, ... , \\mu_K$"
   ]
  },
  {
   "cell_type": "code",
   "execution_count": 4,
   "id": "157d1288",
   "metadata": {},
   "outputs": [],
   "source": [
    "# Your code here"
   ]
  },
  {
   "cell_type": "markdown",
   "id": "39d06e5a",
   "metadata": {},
   "source": [
    "b) Until convergence :"
   ]
  },
  {
   "cell_type": "markdown",
   "id": "5750c429",
   "metadata": {},
   "source": [
    "<span style=\"margin-left: 20px;\">i) Find the closest centroid for each point</span>"
   ]
  },
  {
   "cell_type": "code",
   "execution_count": 5,
   "id": "29bfd2a1",
   "metadata": {},
   "outputs": [],
   "source": [
    "# Your code here"
   ]
  },
  {
   "cell_type": "markdown",
   "id": "6cf76934",
   "metadata": {},
   "source": [
    "<span style=\"margin-left: 20px;\">ii) Reevaluate the centroids</span>"
   ]
  },
  {
   "cell_type": "code",
   "execution_count": 6,
   "id": "b8afb064",
   "metadata": {},
   "outputs": [],
   "source": [
    "# Your code here"
   ]
  },
  {
   "cell_type": "markdown",
   "id": "7735225e",
   "metadata": {},
   "source": [
    "c) Return the $k$ centroids."
   ]
  },
  {
   "cell_type": "code",
   "execution_count": 7,
   "id": "52acf6f6",
   "metadata": {},
   "outputs": [],
   "source": [
    "# Your code here"
   ]
  },
  {
   "cell_type": "markdown",
   "id": "5fd343f8",
   "metadata": {},
   "source": [
    "We also ask you to define and implement strategies for the :\n",
    "\n",
    "* Initialisation of the centroids.\n",
    "* Convergence criteria."
   ]
  },
  {
   "cell_type": "markdown",
   "id": "4a080467",
   "metadata": {},
   "source": [
    "## Exercise 3 - Evaluate your model"
   ]
  },
  {
   "cell_type": "markdown",
   "id": "b8e87155",
   "metadata": {},
   "source": [
    "Run your algorithm with the dataset 1."
   ]
  },
  {
   "cell_type": "code",
   "execution_count": 8,
   "id": "509097eb",
   "metadata": {},
   "outputs": [],
   "source": [
    "# Your code here"
   ]
  },
  {
   "cell_type": "markdown",
   "id": "2b736516",
   "metadata": {},
   "source": [
    "Visualize your convergence criteria over the epochs using the dataset 1."
   ]
  },
  {
   "cell_type": "code",
   "execution_count": 9,
   "id": "1e51ed72",
   "metadata": {},
   "outputs": [],
   "source": [
    "# Your code here"
   ]
  },
  {
   "cell_type": "markdown",
   "id": "0d34e679",
   "metadata": {},
   "source": [
    "Visualize the output of your $k$-means on the dataset 1."
   ]
  },
  {
   "cell_type": "code",
   "execution_count": 10,
   "id": "e4ce32f7",
   "metadata": {},
   "outputs": [],
   "source": [
    "# Your code here"
   ]
  },
  {
   "cell_type": "markdown",
   "id": "e0cdddce",
   "metadata": {},
   "source": [
    "Do you experience sensitivity to the initial values of the centroids? Is your strategy for initialization working well in most cases?"
   ]
  },
  {
   "cell_type": "markdown",
   "id": "521f0a56",
   "metadata": {},
   "source": [
    "_Your answer here_"
   ]
  },
  {
   "cell_type": "markdown",
   "id": "64cb23c1",
   "metadata": {},
   "source": [
    "Document your convergence criteria. Could you think about other convergence criteria?"
   ]
  },
  {
   "cell_type": "markdown",
   "id": "0ae969cf",
   "metadata": {},
   "source": [
    "_Your answer here_"
   ]
  },
  {
   "cell_type": "markdown",
   "id": "86942d92",
   "metadata": {},
   "source": [
    "Run your algorithm with the dataset 2."
   ]
  },
  {
   "cell_type": "code",
   "execution_count": 11,
   "id": "eb0b38a3",
   "metadata": {},
   "outputs": [],
   "source": [
    "# Your code here"
   ]
  },
  {
   "cell_type": "markdown",
   "id": "6f9661b9",
   "metadata": {},
   "source": [
    "Visualize your convergence criteria over time using the dataset 2."
   ]
  },
  {
   "cell_type": "code",
   "execution_count": 12,
   "id": "c980dec1",
   "metadata": {},
   "outputs": [],
   "source": [
    "# Your code here"
   ]
  },
  {
   "cell_type": "markdown",
   "id": "7e6c2846",
   "metadata": {},
   "source": [
    "Visualize the output of your $k$-means on the dataset 2 and comment your results."
   ]
  },
  {
   "cell_type": "code",
   "execution_count": 13,
   "id": "d7ade328",
   "metadata": {},
   "outputs": [],
   "source": [
    "# Your code here"
   ]
  },
  {
   "cell_type": "markdown",
   "id": "745b2078",
   "metadata": {},
   "source": [
    "_Your comment_"
   ]
  },
  {
   "cell_type": "code",
   "execution_count": null,
   "id": "3150b092",
   "metadata": {},
   "outputs": [],
   "source": []
  }
 ],
 "metadata": {
  "kernelspec": {
   "display_name": "Python 3 (ipykernel)",
   "language": "python",
   "name": "python3"
  },
  "language_info": {
   "codemirror_mode": {
    "name": "ipython",
    "version": 3
   },
   "file_extension": ".py",
   "mimetype": "text/x-python",
   "name": "python",
   "nbconvert_exporter": "python",
   "pygments_lexer": "ipython3",
   "version": "3.7.11"
  }
 },
 "nbformat": 4,
 "nbformat_minor": 5
}
