{
 "cells": [
  {
   "cell_type": "markdown",
   "id": "d07f854c",
   "metadata": {},
   "source": [
    "# PW8 - Exercise 5 - Review Questions"
   ]
  },
  {
   "cell_type": "markdown",
   "id": "07f9abb1",
   "metadata": {},
   "source": [
    "## a) Re-explain in your own words the steps of the K-Means algorithm."
   ]
  },
  {
   "cell_type": "markdown",
   "id": "c871d20c",
   "metadata": {},
   "source": [
    "L'algorithme K-Means est utilisé pour regrouper un dataset en \"clusters2. \n",
    "\n",
    "Voici toutes les étapes de base de l'algorithme :\n",
    "\n",
    "1. **Initialisation** :  Tout d'abord, l'algorithme choisit aléatoirement K points dans l'ensemble de données pour servir de centres initiaux des clusters. K représente le nombre de clusters qu'on souhaite former. Si on choisi 3 par exemple cela voudrait dire qu'on sait qu'il existe potentiellement 3 classes et que donc 3 clusters vont être défini par l'algorithme. \n",
    "2. **Affectation des points au cluster le plus proche** : Ensuite, chaque point de données est assigné au cluster dont le centre est le plus proche. Cela se fait en calculant la distance entre chaque point de données et les centres des clusters, puis en attribuant le point au cluster avec le centre le plus proche.\n",
    "3. **Mise à jour des centroids des clusters** : Une fois que tous les points ont été attribués à des clusters, les centres de ces mêmes clusters sont mis à jour. Pour cela, on calcule la moyenne des points appartenant à chaque cluster (cela va données les nouvelles coordonnées du centre) et on déplace le centre du cluster à cette nouvelle position. \n",
    "4. **Répéter les étapes 2 et 3** :  Les étapes 2 et 3 sont répétées jusqu'à ce que les centres des clusters ne changent plus de manière significative ou que le nombre maximum d'itérations soit atteint.\n",
    "5. **Convergence** : L'algorithme converge lorsque les centres des clusters ne changent plus ou changent très peu entre les itérations. À ce stade, les clusters sont considérés comme stables et les points de données sont regroupés en clusters distincts. C'est a ce moment dans le code qu'on défini quel point appartient à quel classe (donc a quel cluster)\n",
    "\n",
    "Pour resumé tout ce qui a été écris de manière plus briève :\n",
    "\n",
    "L'algorithme K-Means commence par initialiser les centres des clusters, puis attribue chaque point de données au cluster le plus proche, met à jour les centres des clusters en calculant la moyenne des points de chaque cluster, et répète ce processus jusqu'à ce que les centres des clusters convergent vers des positions stables. Cela permet de regrouper les points de données en K clusters distincts."
   ]
  },
  {
   "cell_type": "markdown",
   "id": "2f8288da",
   "metadata": {},
   "source": [
    "## b) Are we guaranteed to observe a decreasing distortion J from one epoch to the other in the K-Means ?"
   ]
  },
  {
   "cell_type": "markdown",
   "id": "131ed82c",
   "metadata": {},
   "source": [
    "Oui, en général, dans l'algorithme K-Means, on observe une diminution de la distorsion J d'une époque à l'autre. L'objectif principal de l'algorithme K-Means est de minimiser cette distorsion (qui défini à quel point les points sont proches du point central - slide 22).\n",
    "\n",
    "Pendant chaque itération de l'algorithme, les points de données sont assignés aux clusters en fonction de leur proximité avec les centres des clusters actuels. Ensuite, les clusters sont mis à jour pour minimiser la distorsion totale. Comme ce processus est répété à chaque itération, la distorsion J a tendance à diminuer car les centres sont ajustés pour mieux représenter les données. \n",
    "\n",
    "**Par contre**, il est important de noter que bien que la distorsion diminue généralement d'une epoch à l'autre, il est possible que l'algorithme converge vers un minimum local, ce qui signifie qu'il peut atteindre un état où la distorsion ne diminue plus, même s'il ne s'agit pas du minimum global. Cela dépend des positions initiales des centres des clusters et peut entraîner une convergence pas vraiment optimal de certains cas. La réponse à cette question pourrait alors être **oui et non**."
   ]
  },
  {
   "cell_type": "markdown",
   "id": "323d614f",
   "metadata": {},
   "source": [
    "## c) For two different initial values of the centroids in the K-Means, can we get different end values of the distortion J ? Argument your answer."
   ]
  },
  {
   "cell_type": "markdown",
   "id": "84a47dd4",
   "metadata": {},
   "source": [
    "Oui, pour deux valeurs initiales différentes des centroids dans l'algorithme K-Means, nous pouvons obtenir des valeurs finales différentes de la distorsion J. La raison en est que l'algorithme K-Means converge vers un minimum local de la cost fonction, et la position de ce minimum local dépend des positions initiales des centroids.\n",
    "\n",
    "Dans l'image ci-dessous, vous avezun exemple de deux résultats différents obtenus avec les valeurs initiales différentes.\n",
    "\n",
    "![TwoDifferentInitialValues](images/TwoDifferentInitialValues.png)\n",
    "\n",
    "Il est possible qu'à un certain moment, les clusters ne soient presque plus mis à jour parce qu'aucun autre point n'est ajouté à l'itération. Par conséquent, la valeur de la cost function ne sera pas optimale dans ce cas. Il est donc important d'expérimenter avec plusieurs points initiaux afin de trouver la meilleure distorsion possible."
   ]
  },
  {
   "cell_type": "markdown",
   "id": "2f223bb3",
   "metadata": {},
   "source": [
    "## d) Can the K-Means be used as a compression algorithm ? Compute the compression ratio for a setting with 256 centroids and an input space at two dimensions ($x_1$, $x_2$) encoded in float32."
   ]
  },
  {
   "cell_type": "markdown",
   "id": "a7f7ae52",
   "metadata": {},
   "source": [
    "Oui, le K-Means peut être utilisé comme un algorithme de compression. Il est souvent employé pour réduire la bande passante, par exemple dans la compression d'images ou de données vocales où la perte d'informations est tolérable. Dans la théorie, on nous fait référence à la quantification vectorielle qui représente cela :\n",
    "\n",
    "\"L'idée est de représenter les données d'entrée en utilisant les indices des centroids auxquels ces données appartiennent, plutôt que les données elles-mêmes. Cela permet de réduire la quantité d'information nécessaire pour représenter les données, ce qui entraîne une forme de compression.\"\n",
    "\n",
    "Et donc pour effectuer cette compression sur l'exemple qui nous est fourni, on va utiliser la formule suivante : \n",
    "\n",
    "**Taux de compression = Taille des données originales / Taille des données compressées**\n",
    "\n",
    "ans ce cas, avec 256 centroids et des données d'entrée encodées en float32 (chacune utilisant 4 octets) dans un espace à deux dimensions (x1  et x2), le nombre total d'octets nécessaires pour les données originales est N x 2 x 4, N = nombre de points de données. Après compression, en utilisant les index des centroids (chacun nécessitant 1 octet), le nombre total d'octets nécessaires est N x 1.\n",
    "\n",
    "Par conséquent, le taux de compression dans ce cas serait :\n",
    "\n",
    "**(N X 2 x 4) / (N x 1) = 8 / 1 = 8**\n",
    "\n",
    "Cela signifie que les données comprimées occupent 8 fois moins d'espace que les données d'origine.\n"
   ]
  },
  {
   "cell_type": "markdown",
   "id": "e34dab83",
   "metadata": {},
   "source": [
    "## e) What is the use of the elbow method ? Explain it in your own words."
   ]
  },
  {
   "cell_type": "markdown",
   "id": "88f8648e",
   "metadata": {},
   "source": [
    "Cette technique est utilisée pour aider à déterminer le nombre optimal de clusters dans l'algorithme K-Means.  Cette méthode est appelée comme ça parce que le graphique du nombre de clusters par rapport à la distorsion forme généralement une courbe qui ressemble à un coude.\n",
    "\n",
    "Voici un résumé très rapide des étapes :\n",
    "1. **Essai de différents nombres de clusters**\n",
    "2. **Tracé du graphique qui permet d'utiliser cette technique**\n",
    "3. **Recherche du \"elbow\"** : En observant le graphique, on cherche le point où la diminution de la distorsion commence à ralentir de manière significative, formant ainsi un coude dans la courbe. Ce point indique le nombre optimal de clusters car l'ajout de plus de clusters ne réduit pas beaucoup plus la distorsion, ce qui signifie que les clusters supplémentaires ne contribuent pas beaucoup à la compréhension des données. "
   ]
  },
  {
   "cell_type": "markdown",
   "id": "c0206d1d",
   "metadata": {},
   "source": [
    "## f) Give an example where we would know in advance the number of clusters we want to discover with a clustering algorithm."
   ]
  },
  {
   "cell_type": "markdown",
   "id": "3948c3ba",
   "metadata": {},
   "source": [
    "Un exemple concret est la classification de couleurs dans une image. \n",
    "\n",
    "Supposons que nous ayons une image contenant différents objets colorés, et que nous voulions regrouper ces couleurs en clusters correspondant à des catégories spécifiques de couleurs, comme \"rouge\", \"vert\" et \"bleu\". Dans ce cas, nous savons d'avance que nous voulons trois clusters pour représenter ces catégories de couleurs primaires. Chaque pixel de l'image peut être considéré comme un point de données, et en utilisant un algorithme de regroupement, nous pouvons assigner chaque pixel à l'un des trois clusters correspondant aux couleurs primaires définis au début."
   ]
  },
  {
   "cell_type": "markdown",
   "id": "91b04b3b",
   "metadata": {},
   "source": [
    "## g) It is possible to compute the distortion $J_k$ for a given centroid k. If we observe that the distortion $J_k$ for centroid k is really bigger than the other distortions and that the number of points $N_k$ associated to this centroid is also bigger than for the other centroids, what can we say about the dataset and cluster k of points ? Could you suggest a strategy to make things better ?"
   ]
  },
  {
   "cell_type": "markdown",
   "id": "4c118765",
   "metadata": {},
   "source": [
    "We can indentifie somme issues with the dataset and the clusters : \n",
    "\n",
    "**Non-Uniform Cluster Size** :  It suggests that the dataset may have clusters of varying sizes, with cluster k being significantly larger.\n",
    "**Presence of Outliers or Noise** : A  high distortion might indicate the presence of outliers or noise within cluster k, which disproportionately affects the centroid's position and increases the overall distortion.\n",
    "\n",
    "To solve this issues : \n",
    "\n",
    "1. Re-evaluating the Number of Clusters: Use methods like the Elbow Method, Silhouette Analysis, or the Gap Statistic to determine a more appropriate number of clusters.\n",
    "2. Use different algorithms :  If the dataset has non-convex clusters or varying cluster sizes, consider using differenet algorithms, not necessarly K-Means as mentioned in this PW.\n",
    "3. Handling Outliers and Noise : : Implement outlier detection and removal techniques to minimize their impact on the clustering process.\n"
   ]
  }
 ],
 "metadata": {
  "kernelspec": {
   "display_name": "Python 3 (ipykernel)",
   "language": "python",
   "name": "python3"
  },
  "language_info": {
   "codemirror_mode": {
    "name": "ipython",
    "version": 3
   },
   "file_extension": ".py",
   "mimetype": "text/x-python",
   "name": "python",
   "nbconvert_exporter": "python",
   "pygments_lexer": "ipython3",
   "version": "3.8.7"
  }
 },
 "nbformat": 4,
 "nbformat_minor": 5
}
