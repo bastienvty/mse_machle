{
 "cells": [
  {
   "cell_type": "markdown",
   "id": "d07f854c",
   "metadata": {},
   "source": [
    "# PW8 - Exercise 5 - Review Questions"
   ]
  },
  {
   "cell_type": "markdown",
   "id": "07f9abb1",
   "metadata": {},
   "source": [
    "## a) Re-explain in your own words the steps of the K-Means algorithm."
   ]
  },
  {
   "cell_type": "markdown",
   "id": "c871d20c",
   "metadata": {},
   "source": [
    "TODO: answer"
   ]
  },
  {
   "cell_type": "markdown",
   "id": "2f8288da",
   "metadata": {},
   "source": [
    "## b) Are we guaranteed to observe a decreasing distortion J from one epoch to the other in the K-Means ?"
   ]
  },
  {
   "cell_type": "markdown",
   "id": "131ed82c",
   "metadata": {},
   "source": [
    "TODO: answer"
   ]
  },
  {
   "cell_type": "markdown",
   "id": "323d614f",
   "metadata": {},
   "source": [
    "## c) For two different initial values of the centroids in the K-Means, can we get different end values of the distortion J ? Argument your answer."
   ]
  },
  {
   "cell_type": "markdown",
   "id": "84a47dd4",
   "metadata": {},
   "source": [
    "TODO: answer"
   ]
  },
  {
   "cell_type": "markdown",
   "id": "2f223bb3",
   "metadata": {},
   "source": [
    "## d) Can the K-Means be used as a compression algorithm ? Compute the compression ratio for a setting with 256 centroids and an input space at two dimensions ($x_1$, $x_2$) encoded in float32."
   ]
  },
  {
   "cell_type": "markdown",
   "id": "a7f7ae52",
   "metadata": {},
   "source": [
    "TODO: answer"
   ]
  },
  {
   "cell_type": "markdown",
   "id": "e34dab83",
   "metadata": {},
   "source": [
    "## e) What is the use of the elbow method ? Explain it in your own words."
   ]
  },
  {
   "cell_type": "markdown",
   "id": "88f8648e",
   "metadata": {},
   "source": [
    "TODO: answer"
   ]
  },
  {
   "cell_type": "markdown",
   "id": "c0206d1d",
   "metadata": {},
   "source": [
    "## f) Give an example where we would know in advance the number of clusters we want to discover with a clustering algorithm."
   ]
  },
  {
   "cell_type": "markdown",
   "id": "3948c3ba",
   "metadata": {},
   "source": [
    "TODO: answer"
   ]
  },
  {
   "cell_type": "markdown",
   "id": "91b04b3b",
   "metadata": {},
   "source": [
    "## g) It is possible to compute the distortion $J_k$ for a given centroid k. If we observe that the distortion $J_k$ for centroid k is really bigger than the other distortions and that the number of points $N_k$ associated to this centroid is also bigger than for the other centroids, what can we say about the dataset and cluster k of points ? Could you suggest a strategy to make things better ?"
   ]
  },
  {
   "cell_type": "markdown",
   "id": "4c118765",
   "metadata": {},
   "source": [
    "TODO: answer"
   ]
  }
 ],
 "metadata": {
  "kernelspec": {
   "display_name": "Python 3 (ipykernel)",
   "language": "python",
   "name": "python3"
  },
  "language_info": {
   "codemirror_mode": {
    "name": "ipython",
    "version": 3
   },
   "file_extension": ".py",
   "mimetype": "text/x-python",
   "name": "python",
   "nbconvert_exporter": "python",
   "pygments_lexer": "ipython3",
   "version": "3.8.7"
  }
 },
 "nbformat": 4,
 "nbformat_minor": 5
}
