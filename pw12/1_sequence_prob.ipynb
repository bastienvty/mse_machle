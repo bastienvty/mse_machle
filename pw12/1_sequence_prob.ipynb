{
 "cells": [
  {
   "cell_type": "markdown",
   "metadata": {},
   "source": [
    "Source: https://machinelearningmastery.com/sequence-prediction-problems-learning-lstm-recurrent-neural-networks/"
   ]
  },
  {
   "cell_type": "code",
   "execution_count": null,
   "metadata": {},
   "outputs": [],
   "source": [
    "from numpy import array\n",
    "\n",
    "# generate a sequence of real values between 0 and 1.\n",
    "def generate_sequence(length=10):\n",
    "\treturn array([i/float(length) for i in range(length)])\n",
    "\n",
    "print(generate_sequence())"
   ]
  },
  {
   "cell_type": "code",
   "execution_count": 11,
   "metadata": {},
   "outputs": [
    {
     "name": "stdout",
     "output_type": "stream",
     "text": [
      "[3, 1, 2, 3, 3]\n",
      "[4, 1, 2, 3, 4]\n"
     ]
    }
   ],
   "source": [
    "def generate_sequence(length=5):\n",
    "    \treturn [i for i in range(length)]\n",
    "\n",
    "# sequence 1\n",
    "seq1 = generate_sequence()\n",
    "seq1[0] = seq1[-1] = seq1[-2]\n",
    "print(seq1)\n",
    "# sequence 2\n",
    "seq1 = generate_sequence()\n",
    "seq1[0] = seq1[-1]\n",
    "print(seq1)"
   ]
  },
  {
   "cell_type": "code",
   "execution_count": 12,
   "metadata": {},
   "outputs": [
    {
     "name": "stdout",
     "output_type": "stream",
     "text": [
      "[91, 14, 56, 5, 99, 66, 5, 90, 90, 47]\n"
     ]
    }
   ],
   "source": [
    "from random import randint\n",
    "\n",
    "# generate a sequence of random numbers in [0, 99]\n",
    "def generate_sequence(length=10):\n",
    "\treturn [randint(0, 99) for _ in range(length)]\n",
    "\n",
    "print(generate_sequence())"
   ]
  },
  {
   "cell_type": "code",
   "execution_count": 13,
   "metadata": {},
   "outputs": [
    {
     "name": "stdout",
     "output_type": "stream",
     "text": [
      "[0.98562193 0.33376573 0.59049764 0.37515222 0.46918597 0.16057714\n",
      " 0.11875217 0.8274478  0.44670058 0.16972657]\n",
      "[0 0 0 0 1 1 1 1 1 1]\n"
     ]
    }
   ],
   "source": [
    "from random import random\n",
    "from numpy import array\n",
    "from numpy import cumsum\n",
    "\n",
    "# create a sequence classification instance\n",
    "def get_sequence(n_timesteps):\n",
    "\t# create a sequence of random numbers in [0,1]\n",
    "\tX = array([random() for _ in range(n_timesteps)])\n",
    "\t# calculate cut-off value to change class values\n",
    "\tlimit = n_timesteps/4.0\n",
    "\t# determine the class outcome for each item in cumulative sequence\n",
    "\ty = array([0 if x < limit else 1 for x in cumsum(X)])\n",
    "\treturn X, y\n",
    "\n",
    "X, y = get_sequence(10)\n",
    "print(X)\n",
    "print(y)"
   ]
  },
  {
   "cell_type": "code",
   "execution_count": null,
   "metadata": {},
   "outputs": [],
   "source": []
  }
 ],
 "metadata": {
  "kernelspec": {
   "display_name": "machle",
   "language": "python",
   "name": "python3"
  },
  "language_info": {
   "codemirror_mode": {
    "name": "ipython",
    "version": 3
   },
   "file_extension": ".py",
   "mimetype": "text/x-python",
   "name": "python",
   "nbconvert_exporter": "python",
   "pygments_lexer": "ipython3",
   "version": "3.11.5"
  }
 },
 "nbformat": 4,
 "nbformat_minor": 2
}
