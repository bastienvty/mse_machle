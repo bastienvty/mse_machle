{
  "cells": [
    {
      "cell_type": "markdown",
      "metadata": {
        "id": "a9E-ZL9PdGD0"
      },
      "source": [
        "### UMAP\n",
        "\n",
        "A critical difference between t-SNE and UMAP is that t-SNE minimize the KL-divergence whereas UMAP minimizes the Cross-entropy, this has very different effect in global structure preservation.\n",
        "\n",
        "* [Documentation](https://umap-learn.readthedocs.io/en/latest/)\n",
        "* Reference paper: [UMAP: Uniform Manifold Approximation and Projection for Dimension Reduction](https://arxiv.org/abs/1802.03426) (McInnes, L, Healy, J)"
      ]
    },
    {
      "cell_type": "markdown",
      "metadata": {
        "id": "wugVuNs_LF0d"
      },
      "source": [
        "#### Importing Packages"
      ]
    },
    {
      "cell_type": "code",
      "execution_count": null,
      "metadata": {
        "id": "RDsvl6yFMO5m"
      },
      "outputs": [],
      "source": [
        "import numpy as np\n",
        "import pandas as pd\n",
        "\n",
        "from sklearn.datasets import fetch_openml\n",
        "from sklearn import metrics\n",
        "from sklearn.cluster import KMeans\n",
        "\n",
        "import matplotlib.pyplot as plt\n",
        "from mpl_toolkits.mplot3d import Axes3D\n",
        "\n",
        "# conda install -c conda-forge umap-learn\n",
        "%pip install umap-learn\n",
        "import umap\n",
        "\n",
        "import seaborn as sns\n",
        "sns.set(style='white', context='notebook', rc={'figure.figsize':(16,10)})"
      ]
    },
    {
      "cell_type": "markdown",
      "metadata": {
        "id": "g1M5OfcZMjOc"
      },
      "source": [
        "#### Loading **MNIST** Dataset"
      ]
    },
    {
      "cell_type": "code",
      "execution_count": null,
      "metadata": {
        "id": "MVSamdY2ebZc"
      },
      "outputs": [],
      "source": [
        "mnist = fetch_openml('mnist_784')\n",
        "color = mnist.target.astype(int)"
      ]
    },
    {
      "cell_type": "markdown",
      "metadata": {
        "id": "MLp6E2aEdGD7"
      },
      "source": [
        "#### Compute the 2D embedding with **UMAP**"
      ]
    },
    {
      "cell_type": "code",
      "execution_count": null,
      "metadata": {
        "id": "igMoqD7cdGD8"
      },
      "outputs": [],
      "source": [
        "%%time\n",
        "\n",
        "reducer = umap.UMAP(random_state=42)\n",
        "embedding = reducer.fit_transform(mnist.data)"
      ]
    },
    {
      "cell_type": "code",
      "execution_count": null,
      "metadata": {
        "id": "LDEg03JbdGD9"
      },
      "outputs": [],
      "source": [
        "fig, ax = plt.subplots()\n",
        "plt.scatter(embedding[:, 0], embedding[:, 1], c=color, cmap=\"Spectral\", s=.1)\n",
        "plt.setp(ax, xticks=[], yticks=[])\n",
        "plt.colorbar(boundaries=np.arange(11)-0.5).set_ticks(np.arange(10))\n",
        "plt.title(\"MNIST data embedded into two dimensions by UMAP\", fontsize=16)\n",
        "\n",
        "plt.show()"
      ]
    },
    {
      "cell_type": "markdown",
      "metadata": {
        "id": "DkHv7zZRdGD9"
      },
      "source": [
        "#### Compute the 3D embedding with **UMAP**"
      ]
    },
    {
      "cell_type": "code",
      "execution_count": null,
      "metadata": {
        "id": "jtZ2lgYzdGD-"
      },
      "outputs": [],
      "source": [
        "%%time\n",
        "\n",
        "reducer_3d = umap.UMAP(random_state=42, n_components=3)\n",
        "embedding_3d = reducer_3d.fit_transform(mnist.data)"
      ]
    },
    {
      "cell_type": "code",
      "execution_count": null,
      "metadata": {
        "id": "78hbcVoXQmwX"
      },
      "outputs": [],
      "source": [
        "ax = plt.figure().add_subplot(projection='3d')\n",
        "ax.scatter(\n",
        "    xs=embedding_3d[:,0],\n",
        "    ys=embedding_3d[:,1],\n",
        "    zs=embedding_3d[:,2],\n",
        "    c=color,\n",
        "    cmap='Spectral',\n",
        "    s=.1)\n",
        "ax.set_xlabel('umap-one')\n",
        "ax.set_ylabel('umap-two')\n",
        "ax.set_zlabel('umap-three')\n",
        "\n",
        "plt.title(\"MNIST data embedded into three dimensions by UMAP\", fontsize=16)\n",
        "plt.show()"
      ]
    },
    {
      "cell_type": "markdown",
      "metadata": {
        "id": "RwqL_FDfdGD_"
      },
      "source": [
        "### Clustering in the embedded space"
      ]
    },
    {
      "cell_type": "code",
      "execution_count": null,
      "metadata": {
        "id": "I6-IGCvMdGD_"
      },
      "outputs": [],
      "source": [
        "def cluster_mnist(data):\n",
        "    kmeans = KMeans(n_clusters=np.unique(mnist.target).size).fit(data)\n",
        "    labels_preds = kmeans.predict(data)\n",
        "    homogeneity = metrics.homogeneity_score(mnist.target, labels_preds)\n",
        "    completeness = metrics.completeness_score(mnist.target, labels_preds)\n",
        "    v_score = metrics.v_measure_score(mnist.target, labels_preds)\n",
        "    print(f\"homogeneity | completness | v_score\")\n",
        "    print(f\"{homogeneity:>11.3f} | {completeness:>11.3f} | {v_score:>7.3f}\")"
      ]
    },
    {
      "cell_type": "code",
      "execution_count": null,
      "metadata": {
        "id": "bfXtG8gDdGEA"
      },
      "outputs": [],
      "source": [
        "cluster_mnist(mnist.data)"
      ]
    },
    {
      "cell_type": "code",
      "execution_count": null,
      "metadata": {
        "id": "SnM7SSaidGEA"
      },
      "outputs": [],
      "source": [
        "cluster_mnist(embedding)"
      ]
    },
    {
      "cell_type": "code",
      "execution_count": null,
      "metadata": {
        "id": "UqqgXlg8dGEB"
      },
      "outputs": [],
      "source": [
        "cluster_mnist(embedding_3d)"
      ]
    },
    {
      "cell_type": "markdown",
      "metadata": {
        "id": "Pl9VIh1sdGEB"
      },
      "source": [
        "### Clustering results\n",
        "As expected, clustering in a smaller embedded space gives much better results in cluster homogeneity and completness.\n",
        "However, we can see already that more dimensions is not necesserly a guarantee in clustering quality when using a non-linear embedding process such as UMAP (KMeans use Euclidean distance metric)"
      ]
    }
  ],
  "metadata": {
    "colab": {
      "provenance": []
    },
    "kernelspec": {
      "display_name": "Python 3 (ipykernel)",
      "language": "python",
      "name": "python3"
    },
    "language_info": {
      "codemirror_mode": {
        "name": "ipython",
        "version": 3
      },
      "file_extension": ".py",
      "mimetype": "text/x-python",
      "name": "python",
      "nbconvert_exporter": "python",
      "pygments_lexer": "ipython3",
      "version": "3.9.7"
    }
  },
  "nbformat": 4,
  "nbformat_minor": 0
}