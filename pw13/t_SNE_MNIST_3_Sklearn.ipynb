{
  "cells": [
    {
      "cell_type": "markdown",
      "metadata": {
        "id": "y7HWmRx5KkOP"
      },
      "source": [
        "## Visualising high-dimensional MNIST dataset using Principal Components Analysis (**PCA**) and T-Distributed Stochastic Neighbouring Entities (**t-SNE**)\n",
        "\n",
        "#### In this practical work, we will use MNIST dataset through Scikit Learn. We would like to apply PCA and t-SNE seperatly and afterward compare them with t-SNE applying on PCA-reduced data\n",
        "\n",
        "###### Source: Towards Data Science"
      ]
    },
    {
      "cell_type": "markdown",
      "metadata": {
        "id": "wugVuNs_LF0d"
      },
      "source": [
        "#### Importing Packages"
      ]
    },
    {
      "cell_type": "code",
      "execution_count": null,
      "metadata": {
        "id": "RDsvl6yFMO5m"
      },
      "outputs": [],
      "source": [
        "from __future__ import print_function\n",
        "import time\n",
        "import numpy as np\n",
        "import pandas as pd\n",
        "from sklearn.datasets import fetch_openml\n",
        "from sklearn.decomposition import PCA\n",
        "from sklearn.manifold import TSNE\n",
        "import matplotlib.pyplot as plt\n",
        "from mpl_toolkits.mplot3d import Axes3D\n",
        "import seaborn as sns"
      ]
    },
    {
      "cell_type": "markdown",
      "metadata": {
        "id": "g1M5OfcZMjOc"
      },
      "source": [
        "#### Loading **MNIST** Dataset"
      ]
    },
    {
      "cell_type": "code",
      "execution_count": null,
      "metadata": {
        "id": "MVSamdY2ebZc"
      },
      "outputs": [],
      "source": [
        "mnist = fetch_openml('mnist_784')\n",
        "X = mnist.data / 255.0\n",
        "y = mnist.target\n",
        "print(X.shape, y.shape)"
      ]
    },
    {
      "cell_type": "markdown",
      "metadata": {
        "id": "IjYUkYtvOMts"
      },
      "source": [
        "#### Creating Pandas DataFrame"
      ]
    },
    {
      "cell_type": "code",
      "execution_count": null,
      "metadata": {
        "id": "2WveMTsYOMA4"
      },
      "outputs": [],
      "source": [
        "feat_cols = [ 'pixel'+str(i) for i in range(1, X.shape[1] + 1) ]\n",
        "df = pd.DataFrame(X,columns=feat_cols)\n",
        "df['y'] = y\n",
        "df['label'] = df['y'].apply(lambda i: str(i))\n",
        "X, y = None, None\n",
        "print('Size of the dataframe is  {}'.format(df.shape))"
      ]
    },
    {
      "cell_type": "code",
      "execution_count": null,
      "metadata": {
        "id": "4NLJCVASOpr7"
      },
      "outputs": [],
      "source": [
        "# For reproducability of the results\n",
        "np.random.seed(42)\n",
        "rndperm = np.random.permutation(df.shape[0])"
      ]
    },
    {
      "cell_type": "markdown",
      "metadata": {
        "id": "vBTaEIOdOloK"
      },
      "source": [
        "#### Visualising couple of digits randomly"
      ]
    },
    {
      "cell_type": "code",
      "execution_count": null,
      "metadata": {
        "id": "AOioj2wfPF9p"
      },
      "outputs": [],
      "source": [
        "plt.gray()\n",
        "fig = plt.figure( figsize=(16,7) )\n",
        "for i in range(0,15):\n",
        "    ax = fig.add_subplot(3,5,i+1, title=\"Digit: {}\".format(str(df.loc[rndperm[i],'label'])) )\n",
        "    plt.tight_layout()\n",
        "    ax.matshow(df.loc[rndperm[i],feat_cols].values.reshape((28,28)).astype(float))\n",
        "plt.show()"
      ]
    },
    {
      "cell_type": "markdown",
      "metadata": {
        "id": "FNpM1fbKPhOw"
      },
      "source": [
        "### Dimensionality reduction using **PCA**"
      ]
    },
    {
      "cell_type": "code",
      "execution_count": null,
      "metadata": {
        "id": "rqiRVKqxPgyH"
      },
      "outputs": [],
      "source": [
        "# PCA on MNIST data\n",
        "\n",
        "time_start = time.time()\n",
        "\n",
        "pca = PCA(n_components=3)\n",
        "pca_result = pca.fit_transform(df[feat_cols].values)\n",
        "df['pca-one'] = pca_result[:,0]\n",
        "df['pca-two'] = pca_result[:,1]\n",
        "df['pca-three'] = pca_result[:,2]\n",
        "print('Explained variation per principal component: {}'.format(pca.explained_variance_ratio_))\n",
        "\n",
        "print('PCA done! Time elapsed: {} seconds'.format(time.time()-time_start))"
      ]
    },
    {
      "cell_type": "code",
      "execution_count": null,
      "metadata": {
        "id": "N42bvByKQDkZ"
      },
      "outputs": [],
      "source": [
        "plt.figure(figsize=(16,10))\n",
        "sns.scatterplot(\n",
        "    x=\"pca-one\", y=\"pca-two\",\n",
        "    hue=\"y\",\n",
        "    palette=sns.color_palette(\"hls\", 10),\n",
        "    data=df.loc[rndperm,:],\n",
        "    legend=\"full\",\n",
        "    alpha=0.3)"
      ]
    },
    {
      "cell_type": "markdown",
      "metadata": {
        "id": "9U9YsCwrQkjC"
      },
      "source": [
        "#### For a 3D-version of the above plot"
      ]
    },
    {
      "cell_type": "code",
      "execution_count": null,
      "metadata": {
        "id": "78hbcVoXQmwX"
      },
      "outputs": [],
      "source": [
        "ax = plt.figure(figsize=(16,10)).add_subplot(projection='3d')\n",
        "ax.scatter(\n",
        "    xs=df.loc[rndperm,:][\"pca-one\"],\n",
        "    ys=df.loc[rndperm,:][\"pca-two\"],\n",
        "    zs=df.loc[rndperm,:][\"pca-three\"],\n",
        "    c=(df.loc[rndperm,:][\"y\"].astype(float)),\n",
        "    cmap='tab10')\n",
        "ax.set_xlabel('pca-one')\n",
        "ax.set_ylabel('pca-two')\n",
        "ax.set_zlabel('pca-three')\n",
        "plt.show()"
      ]
    },
    {
      "cell_type": "markdown",
      "metadata": {
        "id": "RAkQzyyUg2AZ"
      },
      "source": [
        "###T-Distributed Stochastic Neighbouring Entities (t-SNE)\n",
        "#### t-SNE is another technique for dimensionality reduction and is particularly well suited for the visualization of high-dimensional datasets. Contrary to PCA it is not a mathematical technique but a probablistic one.\n",
        "- It is highly recommended: in case of very high dimensional data, you may need to apply another dimensionality reduction technique **before** using t-SNEhigh.\n"
      ]
    },
    {
      "cell_type": "markdown",
      "metadata": {
        "id": "u52NWr_lpAmn"
      },
      "source": [
        "#### **First**, we will only use the first **15000** samples to run the algorithm."
      ]
    },
    {
      "cell_type": "code",
      "execution_count": null,
      "metadata": {
        "id": "6BdxFs-qpV8j"
      },
      "outputs": [],
      "source": [
        "# Applying PCA on subset of data (15000 samples)\n",
        "\n",
        "N = 15000 # you can choose your own subset.\n",
        "time_start = time.time()\n",
        "df_subset = df.loc[rndperm[:N],:].copy()\n",
        "data_subset = df_subset[feat_cols].values\n",
        "pca = PCA(n_components=3)\n",
        "pca_result = pca.fit_transform(data_subset)\n",
        "df_subset['pca-one'] = pca_result[:,0]\n",
        "df_subset['pca-two'] = pca_result[:,1]\n",
        "df_subset['pca-three'] = pca_result[:,2]\n",
        "print('Explained variation per principal component: {}'.format(pca.explained_variance_ratio_))\n",
        "print('PCA on subset of data done! Time elapsed: {} seconds'.format(time.time()-time_start))"
      ]
    },
    {
      "cell_type": "markdown",
      "metadata": {
        "id": "XM9bzThiqt82"
      },
      "source": [
        "#### Visualization of **PCA** on subset of data (**15000** samples)\n"
      ]
    },
    {
      "cell_type": "code",
      "execution_count": null,
      "metadata": {
        "id": "3d1f_s3AquPF"
      },
      "outputs": [],
      "source": [
        "plt.figure(figsize=(16,10))\n",
        "sns.scatterplot(\n",
        "    x=\"pca-one\", y=\"pca-two\",\n",
        "    hue=\"y\",\n",
        "    palette=sns.color_palette(\"hls\", 10),\n",
        "    data=df_subset.reindex(rndperm),\n",
        "    legend=\"full\",\n",
        "    alpha=0.3\n",
        ")"
      ]
    },
    {
      "cell_type": "code",
      "execution_count": null,
      "metadata": {
        "id": "52saDBFNaeGd"
      },
      "outputs": [],
      "source": [
        "# Applying t-SNE\n",
        "time_start = time.time()\n",
        "tsne = TSNE(n_components=2, verbose=1, perplexity=40, n_iter=300)\n",
        "tsne_results = tsne.fit_transform(data_subset)\n",
        "print('t-SNE done! Time elapsed: {} seconds'.format(time.time()-time_start))"
      ]
    },
    {
      "cell_type": "markdown",
      "metadata": {
        "id": "CApnDTekkF-p"
      },
      "source": [
        "#### **T-SNE** Visualization"
      ]
    },
    {
      "cell_type": "code",
      "execution_count": null,
      "metadata": {
        "id": "hubab5PqjZk4"
      },
      "outputs": [],
      "source": [
        "df_subset['tsne-2d-one'] = tsne_results[:,0]\n",
        "df_subset['tsne-2d-two'] = tsne_results[:,1]\n",
        "plt.figure(figsize=(16,10))\n",
        "sns.scatterplot(\n",
        "    x=\"tsne-2d-one\", y=\"tsne-2d-two\",\n",
        "    hue=\"y\",\n",
        "    palette=sns.color_palette(\"hls\", 10),\n",
        "    data=df_subset,\n",
        "    legend=\"full\",\n",
        "    alpha=0.3\n",
        ")"
      ]
    },
    {
      "cell_type": "markdown",
      "metadata": {
        "id": "GJ5zr7Mbz-DR"
      },
      "source": [
        "#### Improvement over the PCA visualisation we used earlier. We can see that the digits are very clearly clustered in their own sub groups."
      ]
    },
    {
      "cell_type": "markdown",
      "metadata": {
        "id": "ywaMoxyqjaXG"
      },
      "source": [
        "### Visually comparison between **PCA** and **t-SNE**"
      ]
    },
    {
      "cell_type": "code",
      "execution_count": null,
      "metadata": {
        "id": "Aoram-BgkJU-"
      },
      "outputs": [],
      "source": [
        "plt.figure(figsize=(16,7))\n",
        "plt.tight_layout()\n",
        "ax1 = plt.subplot(1, 2, 1)\n",
        "sns.scatterplot(\n",
        "    x=\"pca-one\", y=\"pca-two\",\n",
        "    hue=\"y\",\n",
        "    palette=sns.color_palette(\"hls\", 10),\n",
        "    data=df_subset,\n",
        "    legend=\"full\",\n",
        "    alpha=0.3,\n",
        "    ax=ax1\n",
        ")\n",
        "ax2 = plt.subplot(1, 2, 2)\n",
        "sns.scatterplot(\n",
        "    x=\"tsne-2d-one\", y=\"tsne-2d-two\",\n",
        "    hue=\"y\",\n",
        "    palette=sns.color_palette(\"hls\", 10),\n",
        "    data=df_subset,\n",
        "    legend=\"full\",\n",
        "    alpha=0.3,\n",
        "    ax=ax2\n",
        ")"
      ]
    },
    {
      "cell_type": "markdown",
      "metadata": {
        "id": "idVxAzcVkcOd"
      },
      "source": [
        "## Reduce the number of dimensions before feeding the data into the t-SNE algorithm\n",
        "#### Therefore, we will use PCA again. We will first create a new dataset containing the fifty dimensions generated by the PCA reduction algorithm. We can then use this dataset to perform the t-SNE on it."
      ]
    },
    {
      "cell_type": "code",
      "execution_count": null,
      "metadata": {
        "id": "5zTIk1PokufZ"
      },
      "outputs": [],
      "source": [
        "time_start = time.time()\n",
        "pca_50 = PCA(n_components=50)\n",
        "pca_result_50 = pca_50.fit_transform(df_subset)\n",
        "print('Cumulative explained variation for 50 principal components: {}'.format(np.sum(pca_50.explained_variance_ratio_)))\n",
        "print('PCA before t-SNE done! Time elapsed: {} seconds'.format(time.time()-time_start))"
      ]
    },
    {
      "cell_type": "markdown",
      "metadata": {
        "id": "d7lRb8DlkwHa"
      },
      "source": [
        "### t-SNE on PCA-reduced data"
      ]
    },
    {
      "cell_type": "code",
      "execution_count": null,
      "metadata": {
        "id": "42Q2YO7HkwVC"
      },
      "outputs": [],
      "source": [
        "# t-SNE on PCA-reduced data\n",
        "time_start = time.time()\n",
        "tsne = TSNE(n_components=2, verbose=1, perplexity=40, n_iter=300)\n",
        "tsne_pca_results = tsne.fit_transform(pca_result_50)\n",
        "print('t-SNE done! Time elapsed: {} seconds'.format(time.time()-time_start))"
      ]
    },
    {
      "cell_type": "markdown",
      "metadata": {
        "id": "Qw4hlWRXk-EU"
      },
      "source": [
        "### Visualization"
      ]
    },
    {
      "cell_type": "code",
      "execution_count": null,
      "metadata": {
        "id": "DOmr0Shlk6qm"
      },
      "outputs": [],
      "source": [
        "df_subset['tsne-pca50-one'] = tsne_pca_results[:,0]\n",
        "df_subset['tsne-pca50-two'] = tsne_pca_results[:,1]\n",
        "plt.figure(figsize=(25,8))\n",
        "plt.tight_layout()\n",
        "ax1 = plt.subplot(1, 3, 1)\n",
        "sns.scatterplot(\n",
        "    x=\"pca-one\", y=\"pca-two\",\n",
        "    hue=\"y\",\n",
        "    palette=sns.color_palette(\"hls\", 10),\n",
        "    data=df_subset,\n",
        "    legend=\"full\",\n",
        "    alpha=0.3,\n",
        "    ax=ax1\n",
        ")\n",
        "ax2 = plt.subplot(1, 3, 2)\n",
        "sns.scatterplot(\n",
        "    x=\"tsne-2d-one\", y=\"tsne-2d-two\",\n",
        "    hue=\"y\",\n",
        "    palette=sns.color_palette(\"hls\", 10),\n",
        "    data=df_subset,\n",
        "    legend=\"full\",\n",
        "    alpha=0.3,\n",
        "    ax=ax2\n",
        ")\n",
        "ax3 = plt.subplot(1, 3, 3)\n",
        "sns.scatterplot(\n",
        "    x=\"tsne-pca50-one\", y=\"tsne-pca50-two\",\n",
        "    hue=\"y\",\n",
        "    palette=sns.color_palette(\"hls\", 10),\n",
        "    data=df_subset,\n",
        "    legend=\"full\",\n",
        "    alpha=0.3,\n",
        "    ax=ax3\n",
        ")"
      ]
    },
    {
      "cell_type": "code",
      "source": [],
      "metadata": {
        "id": "FBjAf8NrbaSG"
      },
      "execution_count": null,
      "outputs": []
    }
  ],
  "metadata": {
    "colab": {
      "provenance": []
    },
    "kernelspec": {
      "display_name": "Python 3 (ipykernel)",
      "language": "python",
      "name": "python3"
    },
    "language_info": {
      "codemirror_mode": {
        "name": "ipython",
        "version": 3
      },
      "file_extension": ".py",
      "mimetype": "text/x-python",
      "name": "python",
      "nbconvert_exporter": "python",
      "pygments_lexer": "ipython3",
      "version": "3.9.7"
    }
  },
  "nbformat": 4,
  "nbformat_minor": 0
}